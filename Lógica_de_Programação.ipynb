{
  "nbformat": 4,
  "nbformat_minor": 0,
  "metadata": {
    "colab": {
      "provenance": [],
      "collapsed_sections": [
        "cZQL07s04lZF",
        "wrTJnAZd5EX2",
        "KqQ0w0QK7HKh",
        "Pexe356r5s8o",
        "T6Sj7j729r2r",
        "Bb7qIzfLAKq4",
        "6HjLy9KqBRnH",
        "HxbpEvTpBbYX",
        "9Bnk4XuYDzIr",
        "-upARzwNEinY",
        "LC32WHGXEva-",
        "I32osF3nEwGH",
        "bIqA7Y3pMCis",
        "dWsHJQYYMTQy",
        "BktXvltGRG7Q",
        "FO2kInocg2s2",
        "ICJWI0XElAD7",
        "XDbpjACan4Bt",
        "DVuWoqxFn11K"
      ],
      "authorship_tag": "ABX9TyM0VrkvDOW72O/dSlxcdJOK",
      "include_colab_link": true
    },
    "kernelspec": {
      "name": "python3",
      "display_name": "Python 3"
    },
    "language_info": {
      "name": "python"
    }
  },
  "cells": [
    {
      "cell_type": "markdown",
      "metadata": {
        "id": "view-in-github",
        "colab_type": "text"
      },
      "source": [
        "<a href=\"https://colab.research.google.com/github/italo013/Logica-de-Programacao/blob/main/L%C3%B3gica_de_Programa%C3%A7%C3%A3o.ipynb\" target=\"_parent\"><img src=\"https://colab.research.google.com/assets/colab-badge.svg\" alt=\"Open In Colab\"/></a>"
      ]
    },
    {
      "cell_type": "markdown",
      "source": [
        "___\n",
        "# Python - Curso Intensivo\n",
        "___\n"
      ],
      "metadata": {
        "id": "cZQL07s04lZF"
      }
    },
    {
      "cell_type": "markdown",
      "source": [
        "## Introdução"
      ],
      "metadata": {
        "id": "wrTJnAZd5EX2"
      }
    },
    {
      "cell_type": "markdown",
      "source": [
        "Python é uma das linguagens de programação mais populares do mundo, e se você quer aprender a programar, definitivamente deve considerar Python. Aprender Python não é apenas divertido, mas também é muito útil, pois é usado em muitas áreas, como ciência de dados, desenvolvimento web e inteligência artificial."
      ],
      "metadata": {
        "id": "Qs7awI0Sus_D"
      }
    },
    {
      "cell_type": "markdown",
      "source": [
        "## Sumário"
      ],
      "metadata": {
        "id": "KqQ0w0QK7HKh"
      }
    },
    {
      "cell_type": "markdown",
      "source": [
        "**Variáveis**: conceito, declaração e atribuição de valores <br>\n",
        "**Tipos de dados**: numéricos, booleanos, strings e listas <br>\n",
        "**Operadores**: aritméticos, de comparação, lógicos e de atribuição <br>\n",
        "**Estrutura de Condição (if, else)**: estrutura, operadores de comparação e operadores lógicos <br>\n",
        "**Estrutura de Repetição (for, while)**: estrutura, diferenças entre while e for, e break/continue. <br>"
      ],
      "metadata": {
        "id": "DtsubZx97K7-"
      }
    },
    {
      "cell_type": "markdown",
      "source": [
        "### Variáveis"
      ],
      "metadata": {
        "id": "Pexe356r5s8o"
      }
    },
    {
      "cell_type": "markdown",
      "source": [
        "Variáveis em Python são utilizadas para armazenar valores que podem ser usados posteriormente no código. Elas são criadas quando um valor é atribuído a um nome. Em Python, não é necessário definir o tipo de dado da variável antes de usá-la, pois a tipagem é dinâmica, ou seja, o tipo da variável é definido automaticamente pelo valor que foi atribuído a ela.\n",
        "\n",
        "\n",
        "Para criar uma variável em Python, basta escolher um nome (que deve seguir algumas regras, como não começar com número e não conter caracteres especiais) e atribuir um valor a ele usando o sinal de igual (=). Por exemplo:"
      ],
      "metadata": {
        "id": "kJs_KZLZ5xq9"
      }
    },
    {
      "cell_type": "code",
      "source": [
        "idade = 30\n",
        "nome = \"Maria\"\n",
        "salario = 2000.50"
      ],
      "metadata": {
        "id": "T_bIRP9f5xZw"
      },
      "execution_count": null,
      "outputs": []
    },
    {
      "cell_type": "markdown",
      "source": [
        "No exemplo acima, criamos três variáveis: idade, nome e salario. A primeira recebeu o valor 30 (que é um número inteiro), a segunda recebeu uma string com o nome \"Maria\" e a terceira recebeu um número real (ponto flutuante) de 2000.50.\n",
        "\n",
        "As variáveis podem ser usadas em expressões e operações matemáticas, como por exemplo:"
      ],
      "metadata": {
        "id": "_YWydlkO8rZA"
      }
    },
    {
      "cell_type": "code",
      "source": [
        "idade = 30\n",
        "idade_no_ano_que_vem = idade + 1\n",
        "print(idade_no_ano_que_vem) # imprime 31"
      ],
      "metadata": {
        "colab": {
          "base_uri": "https://localhost:8080/"
        },
        "id": "x-ClPmJc8z6I",
        "outputId": "31b9d79f-9ade-4206-b871-f658c0234dfb"
      },
      "execution_count": null,
      "outputs": [
        {
          "output_type": "stream",
          "name": "stdout",
          "text": [
            "31\n"
          ]
        }
      ]
    },
    {
      "cell_type": "markdown",
      "source": [
        "No exemplo acima, criamos uma nova variável idade_no_ano_que_vem que recebe o valor da variável idade somado com 1. Em seguida, imprimimos o valor da nova variável, que será 31.\n",
        "\n",
        "Lembre-se que em Python, as variáveis podem ter seus valores alterados a qualquer momento, basta atribuir um novo valor a elas."
      ],
      "metadata": {
        "id": "6TpD9nvt84sq"
      }
    },
    {
      "cell_type": "markdown",
      "source": [
        "### Tipos de Dados"
      ],
      "metadata": {
        "id": "T6Sj7j729r2r"
      }
    },
    {
      "cell_type": "markdown",
      "source": [
        "Em Python, existem vários tipos de dados que podem ser usados para armazenar valores em uma variável. Os tipos de dados mais comuns em Python são:\n",
        "\n",
        "*   **Números inteiros (int)**: usados para representar números inteiros, como 1, 2, 3, etc.<br>\n",
        "*   **Números de ponto flutuante (float)**: usados para representar números com casas decimais, como 3.14, 2.5, etc.<br>\n",
        "*   **Booleanos (bool)**: usados para representar valores lógicos verdadeiro (True) ou falso (False).<br>\n",
        "*   **Strings (str)**: usados para representar texto, como \"Olá, mundo!\".<br>\n",
        "*   **Listas (list)**: usados para armazenar uma coleção de valores, que podem ser de tipos diferentes.<br>\n",
        "*   **Tuplas (tuple)**: semelhante às listas, mas com valores imutáveis.<br>\n",
        "*   **Dicionários (dict)**: usados para armazenar valores como pares chave-valor.\n",
        "<br>\n",
        "\n",
        "\n",
        "Para determinar o tipo de dados de uma variável em Python, você pode usar a função ***type()***. Por exemplo:"
      ],
      "metadata": {
        "id": "FHQcv3d79z0j"
      }
    },
    {
      "cell_type": "code",
      "source": [
        "x = 42\n",
        "print(type(x))  # saída: <class 'int'>\n",
        "\n",
        "y = 3.14\n",
        "print(type(y))  # saída: <class 'float'>\n",
        "\n",
        "z = True\n",
        "print(type(z))  # saída: <class 'bool'>\n",
        "\n",
        "texto = \"Olá, mundo!\"\n",
        "print(type(texto))  # saída: <class 'str'>\n",
        "\n",
        "lista = [1, 2, 3]\n",
        "print(type(lista))  # saída: <class 'list'>\n",
        "\n",
        "tupla = (4, 5, 6)\n",
        "print(type(tupla))  # saída: <class 'tuple'>\n",
        "\n",
        "dicionario = {\"nome\": \"João\", \"idade\": 30}\n",
        "print(type(dicionario))  # saída: <class 'dict'>\n"
      ],
      "metadata": {
        "colab": {
          "base_uri": "https://localhost:8080/"
        },
        "id": "ocnUYip1-2oS",
        "outputId": "f709ae24-221a-451f-99a0-05c037676d9f"
      },
      "execution_count": null,
      "outputs": [
        {
          "output_type": "stream",
          "name": "stdout",
          "text": [
            "<class 'int'>\n",
            "<class 'float'>\n",
            "<class 'bool'>\n",
            "<class 'str'>\n",
            "<class 'list'>\n",
            "<class 'tuple'>\n",
            "<class 'dict'>\n"
          ]
        }
      ]
    },
    {
      "cell_type": "markdown",
      "source": [
        "### Operadores"
      ],
      "metadata": {
        "id": "Bb7qIzfLAKq4"
      }
    },
    {
      "cell_type": "markdown",
      "source": [
        "Em Python, os operadores são símbolos especiais que realizam operações em valores ou variáveis ​​e retornam um resultado. Os operadores podem ser classificados em diferentes categorias, como aritméticos, de comparação, de atribuição, lógicos, de identidade, de associação e de bits.\n",
        "\n",
        "*   **Aritméticos** são usados para realizar operações matemáticas básicas, como adição (+), subtração (-), multiplicação (*), divisão (/), resto (%), exponenciação (**).\n",
        "\n",
        "*   **Comparação** são usados para comparar dois valores e retornar um valor booleano (True ou False), como igualdade (==), diferença (!=), maior (>), menor (<), maior ou igual (>=), menor ou igual (<=).\n",
        "\n",
        "*   **Atribuição** são usados para atribuir valores a variáveis, como o sinal de igual (=).\n",
        "\n",
        "*   **Lógicos** são usados para combinar ou inverter valores booleanos, como e (and), ou (or) e não (not).\n",
        "\n",
        "*   **Identidade** são usados para comparar a identidade de dois objetos, como is e is not.\n",
        "\n",
        "*   **Associação** são usados ​​em conjuntos, dicionários e listas para verificar se um valor está presente ou não, como in e not in.\n",
        "\n",
        "\n",
        "Por exemplo:\n",
        "\n",
        "\n"
      ],
      "metadata": {
        "id": "qhLjPhbqAM8Q"
      }
    },
    {
      "cell_type": "markdown",
      "source": [
        "#### Aritméticos"
      ],
      "metadata": {
        "id": "6HjLy9KqBRnH"
      }
    },
    {
      "cell_type": "markdown",
      "source": [
        "Adição: +"
      ],
      "metadata": {
        "id": "YqiXbBdMBid1"
      }
    },
    {
      "cell_type": "code",
      "source": [
        "a = 5\n",
        "b = 3\n",
        "c = a + b\n",
        "print(c) # Output: 8"
      ],
      "metadata": {
        "colab": {
          "base_uri": "https://localhost:8080/"
        },
        "id": "u0XtVKVABP6e",
        "outputId": "eeb3f81d-559d-44d6-bb71-81343ae87838"
      },
      "execution_count": null,
      "outputs": [
        {
          "output_type": "stream",
          "name": "stdout",
          "text": [
            "8\n"
          ]
        }
      ]
    },
    {
      "cell_type": "markdown",
      "source": [
        "Subtração: -"
      ],
      "metadata": {
        "id": "y3VvD3m_Bnip"
      }
    },
    {
      "cell_type": "code",
      "source": [
        "a = 5\n",
        "b = 3\n",
        "c = a - b\n",
        "print(c) # Output: 2"
      ],
      "metadata": {
        "colab": {
          "base_uri": "https://localhost:8080/"
        },
        "id": "h4qAVd7hCBuq",
        "outputId": "941dc4d3-6a82-4219-cf9c-c4fbfc36842e"
      },
      "execution_count": null,
      "outputs": [
        {
          "output_type": "stream",
          "name": "stdout",
          "text": [
            "2\n"
          ]
        }
      ]
    },
    {
      "cell_type": "markdown",
      "source": [
        "Multiplicação: *"
      ],
      "metadata": {
        "id": "jAGt3E0LBnuA"
      }
    },
    {
      "cell_type": "code",
      "source": [
        "a = 5\n",
        "b = 3\n",
        "c = a * b\n",
        "print(c) # Output: 15"
      ],
      "metadata": {
        "colab": {
          "base_uri": "https://localhost:8080/"
        },
        "id": "f7IPA2-WCGII",
        "outputId": "355380d9-fca4-4349-b0f0-b3e6a3070d75"
      },
      "execution_count": null,
      "outputs": [
        {
          "output_type": "stream",
          "name": "stdout",
          "text": [
            "15\n"
          ]
        }
      ]
    },
    {
      "cell_type": "markdown",
      "source": [
        "Divisão: /"
      ],
      "metadata": {
        "id": "IcjGGINZBn4t"
      }
    },
    {
      "cell_type": "code",
      "source": [
        "a = 5\n",
        "b = 3\n",
        "c = a / b\n",
        "print(c) # Output: 1.6666666666666667"
      ],
      "metadata": {
        "colab": {
          "base_uri": "https://localhost:8080/"
        },
        "id": "rX8tv9n0CLnR",
        "outputId": "a1b3fcc1-48a8-42f8-f000-07983e2f3369"
      },
      "execution_count": null,
      "outputs": [
        {
          "output_type": "stream",
          "name": "stdout",
          "text": [
            "1.6666666666666667\n"
          ]
        }
      ]
    },
    {
      "cell_type": "markdown",
      "source": [
        "Divisão Inteira: //"
      ],
      "metadata": {
        "id": "gWjzGjsxBoDF"
      }
    },
    {
      "cell_type": "code",
      "source": [
        "a = 5\n",
        "b = 3\n",
        "c = a // b\n",
        "print(c) # Output: 1"
      ],
      "metadata": {
        "colab": {
          "base_uri": "https://localhost:8080/"
        },
        "id": "kX5oqftJCOJN",
        "outputId": "07833935-102d-4b0a-8f8c-72cbbb960840"
      },
      "execution_count": null,
      "outputs": [
        {
          "output_type": "stream",
          "name": "stdout",
          "text": [
            "1\n"
          ]
        }
      ]
    },
    {
      "cell_type": "markdown",
      "source": [
        "Resto da divisão: %"
      ],
      "metadata": {
        "id": "VoaStljxB6nj"
      }
    },
    {
      "cell_type": "code",
      "source": [
        "a = 5\n",
        "b = 3\n",
        "c = a % b\n",
        "print(c) # Output: 2"
      ],
      "metadata": {
        "colab": {
          "base_uri": "https://localhost:8080/"
        },
        "id": "eE_A7qhSCPTz",
        "outputId": "c7ad4ae1-0aa0-4519-8656-6f213154f96a"
      },
      "execution_count": null,
      "outputs": [
        {
          "output_type": "stream",
          "name": "stdout",
          "text": [
            "2\n"
          ]
        }
      ]
    },
    {
      "cell_type": "markdown",
      "source": [
        "Potenciação: **"
      ],
      "metadata": {
        "id": "HTzs2OGGB6y4"
      }
    },
    {
      "cell_type": "code",
      "source": [
        "a = 5\n",
        "b = 3\n",
        "c = a ** b\n",
        "print(c) # Output: 125"
      ],
      "metadata": {
        "colab": {
          "base_uri": "https://localhost:8080/"
        },
        "id": "s5wyaPiUCStE",
        "outputId": "ea907e41-2e4c-42c7-e22d-fa63c705d4d5"
      },
      "execution_count": null,
      "outputs": [
        {
          "output_type": "stream",
          "name": "stdout",
          "text": [
            "125\n"
          ]
        }
      ]
    },
    {
      "cell_type": "markdown",
      "source": [
        "#### Comparação"
      ],
      "metadata": {
        "id": "HxbpEvTpBbYX"
      }
    },
    {
      "cell_type": "markdown",
      "source": [
        "Os operadores de comparação em Python são usados para comparar dois valores e retornar um valor booleano (True ou False) indicando se a comparação é verdadeira ou falsa. Os operadores de comparação mais comuns em Python são:\n",
        "\n",
        "*   **Igual a**: ==<br>\n",
        "*   **Diferente de**: !=<br>\n",
        "*   **Maior que**: ><br>\n",
        "*   **Menor que**: <<br>\n",
        "*   **Maior ou igual a**: >=<br>\n",
        "*   **Menor ou igual a**: <=<br>\n",
        "\n",
        "\n",
        "Exemplo:"
      ],
      "metadata": {
        "id": "4Bk21j67C2FL"
      }
    },
    {
      "cell_type": "code",
      "source": [
        "a = 5\n",
        "b = 10\n",
        "print(a == b) # retorna False\n",
        "print(a != b) # retorna True\n",
        "print(a > b) # retorna False\n",
        "print(a < b) # retorna True\n",
        "print(a >= b) # retorna False\n",
        "print(a <= b) # retorna True"
      ],
      "metadata": {
        "colab": {
          "base_uri": "https://localhost:8080/"
        },
        "id": "wGDb0z_IDsTh",
        "outputId": "eaec3565-3f91-40ad-d770-015f39b35226"
      },
      "execution_count": null,
      "outputs": [
        {
          "output_type": "stream",
          "name": "stdout",
          "text": [
            "False\n",
            "True\n",
            "False\n",
            "True\n",
            "False\n",
            "True\n"
          ]
        }
      ]
    },
    {
      "cell_type": "markdown",
      "source": [
        "#### Atribuição"
      ],
      "metadata": {
        "id": "9Bnk4XuYDzIr"
      }
    },
    {
      "cell_type": "markdown",
      "source": [
        "Os operadores de atribuição em Python são usados para atribuir um valor a uma variável. Os operadores de atribuição mais comuns em Python são:\n",
        "\n",
        "*   **Atribuição simples**: =\n",
        "*   **Atribuição com soma**: +=\n",
        "*   **Atribuição com subtração**: -=\n",
        "*   **Atribuição com multiplicação**: *=\n",
        "*   **Atribuição com divisão**: /=\n",
        "*   **Atribuição com módulo**: %=\n",
        "*   **Atribuição com exponenciação**: **=\n",
        "*   **Atribuição com divisão inteira**: //=\n",
        "\n",
        "\n",
        "Exemplo:"
      ],
      "metadata": {
        "id": "rm3tKWIiEE3S"
      }
    },
    {
      "cell_type": "code",
      "source": [
        "a = 5\n",
        "b = 10\n",
        "c = 15\n",
        "\n",
        "# Atribuição simples\n",
        "x = a\n",
        "print(x) # retorna 5\n",
        "\n",
        "# Atribuição com soma\n",
        "a += b\n",
        "print(a) # retorna 15\n",
        "\n",
        "# Atribuição com subtração\n",
        "b -= a\n",
        "print(b) # retorna -5\n",
        "\n",
        "# Atribuição com multiplicação\n",
        "c *= a\n",
        "print(c) # retorna 75\n",
        "\n",
        "# Atribuição com divisão\n",
        "c /= a\n",
        "print(c) # retorna 5.0\n",
        "\n",
        "# Atribuição com módulo\n",
        "b %= a\n",
        "print(b) # retorna 0\n",
        "\n",
        "# Atribuição com exponenciação\n",
        "a **= 2\n",
        "print(a) # retorna 225\n",
        "\n",
        "# Atribuição com divisão inteira\n",
        "c //= a\n",
        "print(c) # retorna 1.0"
      ],
      "metadata": {
        "colab": {
          "base_uri": "https://localhost:8080/"
        },
        "id": "TET55tl4EY31",
        "outputId": "e2de219c-8282-42a9-bd4a-ef58c8018e18"
      },
      "execution_count": null,
      "outputs": [
        {
          "output_type": "stream",
          "name": "stdout",
          "text": [
            "5\n",
            "15\n",
            "-5\n",
            "225\n",
            "15.0\n",
            "10\n",
            "225\n",
            "0.0\n"
          ]
        }
      ]
    },
    {
      "cell_type": "markdown",
      "source": [
        "#### Lógicos"
      ],
      "metadata": {
        "id": "-upARzwNEinY"
      }
    },
    {
      "cell_type": "markdown",
      "source": [
        "Em Python, existem três operadores lógicos principais:\n",
        "\n",
        "*   **and**: retorna *True* se as duas expressões booleanas forem verdadeiras.\n",
        "*   **or**: retorna *True* se pelo menos uma das expressões booleanas for verdadeira.\n",
        "*   **not**: retorna o inverso da expressão booleana (se for verdadeiro, retorna falso e vice-versa).\n",
        "\n",
        "\n",
        "Aqui estão alguns exemplos de como esses operadores podem ser usados:"
      ],
      "metadata": {
        "id": "rZXZ6lF_FJvq"
      }
    },
    {
      "cell_type": "code",
      "source": [
        "# Operador and\n",
        "x = 5\n",
        "y = 10\n",
        "z = 15\n",
        "print(x < y and y < z)  # True\n",
        "print(x > y and y < z)  # False\n",
        "\n",
        "# Operador or\n",
        "x = 5\n",
        "y = 10\n",
        "z = 15\n",
        "print(x < y or y > z)  # True\n",
        "print(x > y or y > z)  # False\n",
        "\n",
        "# Operador not\n",
        "x = 5\n",
        "y = 10\n",
        "z = 15\n",
        "print(not x < y)  # False\n",
        "print(not x > y)  # True"
      ],
      "metadata": {
        "colab": {
          "base_uri": "https://localhost:8080/"
        },
        "id": "cb3RbsrnFNmc",
        "outputId": "85bd408b-e461-43d6-e460-7f171265dcb6"
      },
      "execution_count": null,
      "outputs": [
        {
          "output_type": "stream",
          "name": "stdout",
          "text": [
            "True\n",
            "False\n",
            "True\n",
            "False\n",
            "False\n",
            "True\n"
          ]
        }
      ]
    },
    {
      "cell_type": "markdown",
      "source": [
        "#### Identidade"
      ],
      "metadata": {
        "id": "LC32WHGXEva-"
      }
    },
    {
      "cell_type": "markdown",
      "source": [
        "Em Python, os operadores de identidade são ***is*** e ***is not***. Eles são usados para verificar se dois objetos são o mesmo objeto em memória. Por exemplo:"
      ],
      "metadata": {
        "id": "VvoIB0LrGLVM"
      }
    },
    {
      "cell_type": "code",
      "source": [
        "x = [1, 2, 3]\n",
        "y = [1, 2, 3]\n",
        "z = x\n",
        "\n",
        "print(x is y)  # False, porque x e y referenciam objetos diferentes em memória\n",
        "print(x is z)  # True, porque x e z referenciam o mesmo objeto em memória\n",
        "print(x is not y)  # True, porque x e y referenciam objetos diferentes em memória"
      ],
      "metadata": {
        "colab": {
          "base_uri": "https://localhost:8080/"
        },
        "id": "QN_V8zcxGPSq",
        "outputId": "6f3235ec-ad4c-4f7a-a6dc-b498f2300eea"
      },
      "execution_count": null,
      "outputs": [
        {
          "output_type": "stream",
          "name": "stdout",
          "text": [
            "False\n",
            "True\n",
            "True\n"
          ]
        }
      ]
    },
    {
      "cell_type": "markdown",
      "source": [
        "Nesse exemplo, ***x*** e ***y*** são duas listas diferentes com o mesmo conteúdo, enquanto ***z*** é uma referência para ***x***. Ao usar os operadores de identidade, podemos verificar que ***x*** e ***y*** não são o mesmo objeto em memória, mas ***x*** e ***z*** são o mesmo objeto em memória."
      ],
      "metadata": {
        "id": "0g6uUV9LG5RG"
      }
    },
    {
      "cell_type": "markdown",
      "source": [
        "#### Associação"
      ],
      "metadata": {
        "id": "I32osF3nEwGH"
      }
    },
    {
      "cell_type": "markdown",
      "source": [
        "Em Python, o operador de associação é o operador de pertencimento ***in***. Ele é utilizado para verificar se um valor está presente em uma sequência de elementos, como uma lista ou uma tupla. Por exemplo:"
      ],
      "metadata": {
        "id": "7fp6k8SRHLcP"
      }
    },
    {
      "cell_type": "code",
      "source": [
        "# Verificando se um elemento está presente em uma lista\n",
        "lista = [1, 2, 3, 4, 5]\n",
        "if 3 in lista:\n",
        "    print(\"O valor 3 está presente na lista\")\n",
        "\n",
        "# Verificando se uma substring está presente em uma string\n",
        "frase = \"Python é uma linguagem de programação\"\n",
        "if \"linguagem\" in frase:\n",
        "    print(\"A palavra 'linguagem' está presente na frase\")"
      ],
      "metadata": {
        "colab": {
          "base_uri": "https://localhost:8080/"
        },
        "id": "cn1_iKA9HVwd",
        "outputId": "4fe2bb1e-a409-473e-b62c-64133c68359f"
      },
      "execution_count": null,
      "outputs": [
        {
          "output_type": "stream",
          "name": "stdout",
          "text": [
            "O valor 3 está presente na lista\n",
            "A palavra 'linguagem' está presente na frase\n"
          ]
        }
      ]
    },
    {
      "cell_type": "markdown",
      "source": [
        "Neste exemplo, o operador ***in*** é utilizado para verificar se o valor ***3*** está presente na lista ***lista***, e também para verificar se a substring ***\"linguagem\"*** está presente na string ***frase***. Se o valor ou a substring estiverem presentes, o programa exibe uma mensagem indicando isso."
      ],
      "metadata": {
        "id": "qnhjX7JbHacu"
      }
    },
    {
      "cell_type": "markdown",
      "source": [
        "Em Python, o controle de fluxo é essencial para direcionar o fluxo de execução de um programa de acordo com certas condições. Temos basicamente 2 tipos, condicionais e loops."
      ],
      "metadata": {
        "id": "iRbiDz-aJPtb"
      }
    },
    {
      "cell_type": "markdown",
      "source": [
        "### Estrutura de Condicão (if, else)"
      ],
      "metadata": {
        "id": "bIqA7Y3pMCis"
      }
    },
    {
      "cell_type": "markdown",
      "source": [
        "O condicional ***if*** é uma estrutura de controle que permite que um trecho de código seja executado apenas se uma condição for verdadeira. Em Python, a estrutura condicional é definida pelo uso dos comandos ***if***, ***else*** e ***elif*** (abreviação de \"else if\").\n",
        "\n",
        "A sintaxe básica é a seguinte:\n",
        "```\n",
        "if condição:\n",
        "    bloco de código a ser executado se a condição for verdadeira\n",
        "else:\n",
        "    bloco de código a ser executado se a condição for falsa\n",
        "```\n",
        "Ou ainda:\n",
        "```\n",
        "if condição1:\n",
        "    bloco de código a ser executado se a condição1 for verdadeira\n",
        "elif condição2:\n",
        "    bloco de código a ser executado se a condição2 for verdadeira e a condição1 for falsa\n",
        "else:\n",
        "    bloco de código a ser executado se a condição1 e a condição2 forem falsas\n",
        "```\n",
        "\n",
        "As condicionais são muito úteis em diversas situações, como por exemplo, para validar entradas de usuários em formulários, selecionar determinado comportamento em função de valores de variáveis, entre outras aplicações. Por exemplo:\n"
      ],
      "metadata": {
        "id": "uXCp0sO_JcJK"
      }
    },
    {
      "cell_type": "code",
      "source": [
        "idade = 20\n",
        "\n",
        "if idade >= 18:\n",
        "    print(\"É maior de idade\")\n",
        "else:\n",
        "    print(\"Não é maior de idade\")\n"
      ],
      "metadata": {
        "id": "MOup_-mYJdn_",
        "colab": {
          "base_uri": "https://localhost:8080/"
        },
        "outputId": "7f876c56-bbac-4ef6-aa75-9d75d400caf3"
      },
      "execution_count": null,
      "outputs": [
        {
          "output_type": "stream",
          "name": "stdout",
          "text": [
            "É maior de idade\n"
          ]
        }
      ]
    },
    {
      "cell_type": "markdown",
      "source": [
        "### Estrutura de Repetição (for, while)"
      ],
      "metadata": {
        "id": "dWsHJQYYMTQy"
      }
    },
    {
      "cell_type": "markdown",
      "source": [
        "Em Python, existem dois tipos de laços de repetição: o ***for*** e o ***while***, que permitem executar uma ação repetidamente até que uma condição seja atendida. O loop \"while\" é usado quando não sabemos quantas vezes uma ação será executada, enquanto o loop \"for\" é usado quando sabemos a quantidade de vezes que uma ação será executada.\n",
        "\n",
        "O laço ***for*** é usado para iterar sobre uma sequência (como uma lista, uma tupla, um dicionário ou uma string) e executar um bloco de código para cada item da sequência. A sintaxe básica é:\n",
        "\n",
        "```\n",
        "for item in sequência:\n",
        "    bloco de código a ser executado para cada item da sequência\n",
        "```\n",
        "\n",
        "Por exemplo, o código abaixo itera sobre uma lista de frutas e imprime o nome de cada fruta:"
      ],
      "metadata": {
        "id": "YCY0gqvvNvB8"
      }
    },
    {
      "cell_type": "code",
      "source": [
        "frutas = [\"maçã\", \"banana\", \"laranja\"]\n",
        "for fruta in frutas:\n",
        "    print(fruta)"
      ],
      "metadata": {
        "id": "z0vICKuhOKlj",
        "colab": {
          "base_uri": "https://localhost:8080/"
        },
        "outputId": "33eafe43-4eed-42a8-f17b-8015732dde1c"
      },
      "execution_count": null,
      "outputs": [
        {
          "output_type": "stream",
          "name": "stdout",
          "text": [
            "maçã\n",
            "banana\n",
            "laranja\n"
          ]
        }
      ]
    },
    {
      "cell_type": "markdown",
      "source": [
        "O laço ***while*** é usado para executar um bloco de código enquanto uma condição for verdadeira. A sintaxe básica é:\n",
        "\n",
        "```\n",
        "while condição:\n",
        "    bloco de código a ser executado enquanto a condição for verdadeira\n",
        "```\n",
        "\n",
        "Por exemplo, o código abaixo imprime os números de 0 a 4 usando um laço while:"
      ],
      "metadata": {
        "id": "8actzS5ROTGq"
      }
    },
    {
      "cell_type": "code",
      "source": [
        "i = 0\n",
        "while i < 5:\n",
        "    print(i)\n",
        "    i += 1"
      ],
      "metadata": {
        "id": "q5p6Sq41Oc9V",
        "colab": {
          "base_uri": "https://localhost:8080/"
        },
        "outputId": "e31718e9-3108-4a0b-c7ff-2040ea65eea8"
      },
      "execution_count": null,
      "outputs": [
        {
          "output_type": "stream",
          "name": "stdout",
          "text": [
            "0\n",
            "1\n",
            "2\n",
            "3\n",
            "4\n"
          ]
        }
      ]
    },
    {
      "cell_type": "markdown",
      "source": [
        "Neste exemplo, a variável ***i*** é inicializada com o valor 0, e o bloco de código é executado enquanto ***i*** for menor que 5. A cada iteração do laço, o valor de ***i*** é incrementado em 1. O resultado é a impressão dos números de 0 a 4. Essas são apenas algumas das formas de utilizar o controle de fluxo em Python para criar programas mais complexos e direcionados a diferentes situações."
      ],
      "metadata": {
        "id": "INgeiGFwOnGe"
      }
    },
    {
      "cell_type": "markdown",
      "source": [
        "## Conclusão"
      ],
      "metadata": {
        "id": "BktXvltGRG7Q"
      }
    },
    {
      "cell_type": "markdown",
      "source": [
        "Parabéns, você concluiu esse pequeno curso intensivo de Python!\n",
        "\n",
        "Agora você sabe como criar variáveis, manipular diferentes tipos de dados e utilizar operadores em suas operações. Além disso, você aprendeu a utilizar estruturas de controle de fluxo como if/else e loops while/for. Essas habilidades vão te ajudar a começar a desenvolver seus próprios projetos em Python e a explorar as possibilidades da programação.\n",
        "<br><br>\n",
        "Continue praticando e aprimorando suas habilidades e até a próxima!"
      ],
      "metadata": {
        "id": "E7VJBJUVROYN"
      }
    },
    {
      "cell_type": "markdown",
      "source": [
        "# 1. Introdução à Ciência Atuarial:"
      ],
      "metadata": {
        "id": "FO2kInocg2s2"
      }
    },
    {
      "cell_type": "markdown",
      "source": [
        "**a. Conceitos básicos da atuária: <br><br>**\n",
        "\n",
        "* Definição de Atuária: A atuária é a ciência que utiliza métodos matemáticos e estatísticos para avaliar riscos e incertezas no setor financeiro e de seguros.\n",
        "* Campo de Atuação: Abrange áreas como seguros (de vida, automóveis, saúde, etc.), pensões, investimentos e consultoria financeira.\n",
        "* O Papel do Atuário: Descrição da função do atuário, que é garantir que as empresas ou entidades tenham recursos financeiros suficientes para cumprir suas obrigações futuras, principalmente no que se refere a pagamentos de seguros e pensões.<br><br>\n",
        "\n",
        "**b. A importância das funções biométricas na ciência atuarial:<br><br>**\n",
        "\n",
        "* O Que São Funções Biométricas?: São funções matemáticas que descrevem padrões de vida, morte, invalidez, entre outros eventos, de uma população.\n",
        "* Aplicações Práticas: Estas funções são usadas para calcular prêmios de seguros, reservas, anuidades, entre outros.\n",
        "* Base de Decisões: Estas funções formam a base das decisões atuariais, pois elas permitem que os atuários avaliem riscos com base em dados reais e históricos.<br><br>\n",
        "\n",
        "**c. Aplicações na vida real:<br><br>**\n",
        "\n",
        "* Cálculo de Prêmios de Seguro: Como um atuário usa tábuas de mortalidade e funções biométricas para definir quanto um segurado deve pagar por sua apólice de seguro.\n",
        "* Provisões Técnicas: Como as empresas de seguro determinam quanto dinheiro precisam reservar para garantir que possam pagar todas as suas obrigações futuras.\n",
        "* Planos de Pensão: Avaliação dos custos associados a planos de pensão e como garantir que eles sejam sustentáveis a longo prazo.\n",
        "* Ajuste de Tarifas: Como as informações biométricas ajudam na determinação e ajuste de tarifas em seguros de saúde, por exemplo.\n"
      ],
      "metadata": {
        "id": "FyD27C4LhCal"
      }
    },
    {
      "cell_type": "markdown",
      "source": [
        "# 2. Entendendo as Funções Biométricas:"
      ],
      "metadata": {
        "id": "ICJWI0XElAD7"
      }
    },
    {
      "cell_type": "markdown",
      "source": [
        "**a. Tábuas de mortalidade e suas aplicações:**<br><br>\n",
        "\n",
        "* O Que São Tábuas de Mortalidade?: São tabelas estatísticas que mostram a probabilidade de uma pessoa de uma determinada idade morrer antes de alcançar a próxima idade.\n",
        "* Estrutura de Uma Tábua: Introdução às colunas comuns como idade (x), número de vivos (lx), número de mortes (dx), entre outras.\n",
        "* Aplicações na Atuária: Como estas tábuas são essenciais para calcular prêmios de seguros, pensões e reservas.<br><br>\n",
        "\n",
        "**b. Funções fundamentais (lx, qx, px, etc.):**<br><br>\n",
        "\n",
        "* lx (Número de Vivos): Quantidade de indivíduos vivos no início da idade x.\n",
        "* dx (Número de Mortes): Número de indivíduos que morrem durante a idade x.\n",
        "* qx (Probabilidade de Morte): Probabilidade de um indivíduo de idade x morrer antes de completar a idade x+1.\n",
        "* px (Probabilidade de Sobrevivência): Probabilidade de um indivíduo de idade x sobreviver até a idade x+1.<br><br>\n",
        "\n",
        "**c. Introdução às comutações:**<br><br>\n",
        "\n",
        "* O Que São Comutações?: Uma breve descrição de comutações como valores tabulados que simplificam cálculos atuariais, especialmente em seguros de vida e anuidades.\n",
        "* Notações Comuns: Mx, Nx, Dx, Cx, etc.\n",
        "* Aplicação no Cálculo Atuarial: Como as comutações simplificam e aceleram os cálculos, evitando a necessidade de somas complexas."
      ],
      "metadata": {
        "id": "fZkyr4zek6ze"
      }
    },
    {
      "cell_type": "markdown",
      "source": [
        "# 3. Entendendo as Comutações:"
      ],
      "metadata": {
        "id": "XDbpjACan4Bt"
      }
    },
    {
      "cell_type": "markdown",
      "source": [
        "**Conceitos Básicos:** Comutações são valores pré-calculados que são frequentemente usados em cálculos atuariais para determinar prêmios e reservas em contratos de seguros de vida e anuidades. Elas são derivadas das tábuas de mortalidade e das taxas de juros atuariais.\n",
        "\n",
        "A ideia por trás das comutações é simplificar os cálculos atuariais, transformando cálculos complexos que envolvem somatórios e integrações em operações mais simples.<br><br>\n",
        "\n",
        "**Notações Comuns de Comutações:**\n",
        "* Mx: Soma das expectativas de vida presentes a partir da idade x.\n",
        "* Nx: Soma das expectativas de vida presentes de todos os sobreviventes à idade\n",
        "x.\n",
        "* Dx: Número de mortes na idade x, descontadas à idade x.\n",
        "* Cx: Soma dos números de sobreviventes descontados à idade x.\n",
        "<br><br>\n",
        "\n",
        "**Exemplo Simplificado:** Vamos usar um exemplo básico para demonstrar como as comutações funcionam. Suponhamos que queremos calcular o valor presente esperado de um benefício de seguro de vida de $1 pago na morte de uma pessoa de idade x. Para simplificar, consideraremos apenas três idades (x, x+1, x+2). Sem comutações, teríamos que considerar a probabilidade de morte em cada idade, o número inicial de vivos, e descontar o valor devido ao tempo de espera.\n",
        "\n",
        "Usando comutações, esse cálculo é simplificado multiplicando o benefício pelo valor Mx, que já tem encapsuladas as probabilidades de morte e o fator de desconto."
      ],
      "metadata": {
        "id": "OBhf1uZXn1zD"
      }
    },
    {
      "cell_type": "markdown",
      "source": [
        "# 4. Configurando o Ambiente Python:"
      ],
      "metadata": {
        "id": "DVuWoqxFn11K"
      }
    },
    {
      "cell_type": "markdown",
      "source": [
        "\n",
        "**Google Colab:** O Google Colab, ou Colaboratory, é uma ferramenta oferecida pelo Google que permite escrever e executar código Python diretamente no navegador, sem a necessidade de qualquer configuração. Imagine-o como um \"caderno virtual\" onde você pode combinar texto, imagens e código, tudo em um único lugar. Ele é muito usado para aprendizado e projetos de pesquisa em machine learning, mas também é excelente para ensinar programação.\n",
        "<br><br>\n",
        "**Vantagens do Google Colab:**\n",
        "\n",
        "* **Gratuito:** Não tem custo para usar.\n",
        "* **Sem Configuração:** Basta ter uma conta Google e acesso à internet.\n",
        "* **Fácil de Compartilhar:** Você pode compartilhar seu \"caderno\" (notebook) do Colab como se fosse um documento do Google Docs.\n",
        "* **Recursos de Computação:** O Colab oferece acesso gratuito a GPUs (placas gráficas), que são úteis para cálculos intensivos, como os encontrados em machine learning.\n"
      ],
      "metadata": {
        "id": "g-MH-NSsn14D"
      }
    },
    {
      "cell_type": "markdown",
      "source": [
        "# 5. Manipulação de Dados com Python:"
      ],
      "metadata": {
        "id": "wf50kE42n164"
      }
    },
    {
      "cell_type": "markdown",
      "source": [
        "**Bibliotecas em Python:**  São como \"kits de ferramentas\" que oferecem funcionalidades prontas para serem usadas. Em vez de escrever um código complexo do zero, podemos usar uma biblioteca que já tenha a funcionalidade que precisamos. Imagine que você queira construir uma casa. Em vez de fazer tijolos e telhas você mesmo, você compra esses materiais prontos. Da mesma forma, as bibliotecas oferecem \"materiais\" prontos para construir nossos programas.\n",
        "<br><br>\n",
        "**Exemplos de Bibliotecas Populares em Python:**\n",
        "\n",
        "* **Pandas:** Uma biblioteca poderosa para manipulação e análise de dados. Ela oferece estruturas de dados fáceis de usar para organizar e analisar informações.\n",
        "* **Numpy:** Uma biblioteca para cálculos numéricos. Muito usada para operações matemáticas complexas e trabalhar com grandes conjuntos de números.\n",
        "* **Matplotlib:** Usada para criar gráficos e visualizações. Com ela, você pode transformar seus dados em belos gráficos para melhor compreensão."
      ],
      "metadata": {
        "id": "l4y1Dknora7I"
      }
    },
    {
      "cell_type": "markdown",
      "source": [
        "## O que é a função **def** no Python?"
      ],
      "metadata": {
        "id": "-Pu-A3EOz6X_"
      }
    },
    {
      "cell_type": "markdown",
      "source": [
        "\n",
        "No Python, a palavra-chave **def** é usada para definir uma função. Uma função é um bloco de código organizado e reutilizável que é usado para realizar uma única ação relacionada. A ideia principal por trás de uma função é agrupar um conjunto de instruções para que elas possam ser executadas mais de uma vez. Elas também podem nos ajudar a modularizar nosso código, tornando-o mais organizado e mais fácil de ler e manter.\n",
        "<br><br>\n",
        "**Estrutura básica de uma função:**"
      ],
      "metadata": {
        "id": "rMuiX6vwz477"
      }
    },
    {
      "cell_type": "code",
      "source": [
        "def nome_da_funcao(parametros):\n",
        "    # Corpo da função\n",
        "    instrucoes\n",
        "    return resultado  # O retorno é opcional"
      ],
      "metadata": {
        "id": "ViyFdFts0NiD"
      },
      "execution_count": null,
      "outputs": []
    },
    {
      "cell_type": "markdown",
      "source": [
        "* nome_da_funcao: é o nome que você quer dar para sua função. Deve ser descritivo e seguir as convenções de nomenclatura.\n",
        "\n",
        "* parametros: são variáveis listadas entre parênteses na definição da função. Eles são valores de entrada que a função pode usar para realizar sua ação.\n",
        "\n",
        "* instrucoes: é o bloco de código que a função executará sempre que for chamada.\n",
        "\n",
        "* return: é usado para retornar um valor da função. Se omitido, a função retornará None por padrão.\n",
        "<br><br>\n",
        "\n",
        "**Exemplo de uma função:** <br><br>\n",
        "Vamos criar uma função simples que adiciona dois números:"
      ],
      "metadata": {
        "id": "DAYy3It00TY-"
      }
    },
    {
      "cell_type": "code",
      "source": [
        "def adicionar_dois_numeros(num1, num2):\n",
        "    soma = num1 + num2\n",
        "    return soma\n",
        "\n",
        "# Chamando a função\n",
        "resultado = adicionar_dois_numeros(5, 3)\n",
        "print(resultado)  # Isso imprimirá 8\n"
      ],
      "metadata": {
        "colab": {
          "base_uri": "https://localhost:8080/"
        },
        "id": "18Qd2xJM0k67",
        "outputId": "29a8ebdd-080e-4235-db19-a6bc817404e2"
      },
      "execution_count": null,
      "outputs": [
        {
          "output_type": "stream",
          "name": "stdout",
          "text": [
            "8\n"
          ]
        }
      ]
    },
    {
      "cell_type": "markdown",
      "source": [
        "Neste exemplo, definimos uma função chamada **adicionar_dois_numeros** que tem dois parâmetros: **num1** e **num2**. A função calcula a soma desses dois números e retorna o resultado."
      ],
      "metadata": {
        "id": "ukMcdrIx0ujQ"
      }
    },
    {
      "cell_type": "markdown",
      "source": [
        "# 6. Construindo Anuidades com Python:"
      ],
      "metadata": {
        "id": "U9ZPRVYSrdd7"
      }
    },
    {
      "cell_type": "markdown",
      "source": [
        "Baixar as tábuas de mortalidade -> https://drive.google.com/drive/folders/10ZYbjY_U0MusD57mPcEq2qHz7a01GU6x?usp=sharing\n",
        "<br><br>\n",
        "1º Tente esse primeiro\n",
        "https://acesse.one/pUPUU\n",
        "<br><br>\n",
        "2º Abrir o Google Colab"
      ],
      "metadata": {
        "id": "nZW2ixpWyYYb"
      }
    },
    {
      "cell_type": "markdown",
      "source": [
        "\n",
        "Importando um arquivo .xlsx no Google Colab:\n",
        "Primeiramente, você precisará fazer o upload do arquivo para o ambiente do Google Colab. Aqui está como fazer isso usando o módulo files do Google Colab:"
      ],
      "metadata": {
        "id": "V4ryvOq9rdgx"
      }
    },
    {
      "cell_type": "code",
      "source": [
        "from google.colab import files\n",
        "\n",
        "uploaded = files.upload()\n",
        "\n",
        "for fn in uploaded.keys():\n",
        "  print('Arquivo \"{name}\" importado com {length} bytes'.format(name=fn, length=len(uploaded[fn])))\n"
      ],
      "metadata": {
        "colab": {
          "base_uri": "https://localhost:8080/",
          "height": 90
        },
        "id": "D2HY9cY8xOIu",
        "outputId": "2a34a863-cd64-407c-a8e9-40a2ebe5e365"
      },
      "execution_count": null,
      "outputs": [
        {
          "output_type": "display_data",
          "data": {
            "text/plain": [
              "<IPython.core.display.HTML object>"
            ],
            "text/html": [
              "\n",
              "     <input type=\"file\" id=\"files-7ab3b94e-ba1a-40d7-99f8-5e14df637be7\" name=\"files[]\" multiple disabled\n",
              "        style=\"border:none\" />\n",
              "     <output id=\"result-7ab3b94e-ba1a-40d7-99f8-5e14df637be7\">\n",
              "      Upload widget is only available when the cell has been executed in the\n",
              "      current browser session. Please rerun this cell to enable.\n",
              "      </output>\n",
              "      <script>// Copyright 2017 Google LLC\n",
              "//\n",
              "// Licensed under the Apache License, Version 2.0 (the \"License\");\n",
              "// you may not use this file except in compliance with the License.\n",
              "// You may obtain a copy of the License at\n",
              "//\n",
              "//      http://www.apache.org/licenses/LICENSE-2.0\n",
              "//\n",
              "// Unless required by applicable law or agreed to in writing, software\n",
              "// distributed under the License is distributed on an \"AS IS\" BASIS,\n",
              "// WITHOUT WARRANTIES OR CONDITIONS OF ANY KIND, either express or implied.\n",
              "// See the License for the specific language governing permissions and\n",
              "// limitations under the License.\n",
              "\n",
              "/**\n",
              " * @fileoverview Helpers for google.colab Python module.\n",
              " */\n",
              "(function(scope) {\n",
              "function span(text, styleAttributes = {}) {\n",
              "  const element = document.createElement('span');\n",
              "  element.textContent = text;\n",
              "  for (const key of Object.keys(styleAttributes)) {\n",
              "    element.style[key] = styleAttributes[key];\n",
              "  }\n",
              "  return element;\n",
              "}\n",
              "\n",
              "// Max number of bytes which will be uploaded at a time.\n",
              "const MAX_PAYLOAD_SIZE = 100 * 1024;\n",
              "\n",
              "function _uploadFiles(inputId, outputId) {\n",
              "  const steps = uploadFilesStep(inputId, outputId);\n",
              "  const outputElement = document.getElementById(outputId);\n",
              "  // Cache steps on the outputElement to make it available for the next call\n",
              "  // to uploadFilesContinue from Python.\n",
              "  outputElement.steps = steps;\n",
              "\n",
              "  return _uploadFilesContinue(outputId);\n",
              "}\n",
              "\n",
              "// This is roughly an async generator (not supported in the browser yet),\n",
              "// where there are multiple asynchronous steps and the Python side is going\n",
              "// to poll for completion of each step.\n",
              "// This uses a Promise to block the python side on completion of each step,\n",
              "// then passes the result of the previous step as the input to the next step.\n",
              "function _uploadFilesContinue(outputId) {\n",
              "  const outputElement = document.getElementById(outputId);\n",
              "  const steps = outputElement.steps;\n",
              "\n",
              "  const next = steps.next(outputElement.lastPromiseValue);\n",
              "  return Promise.resolve(next.value.promise).then((value) => {\n",
              "    // Cache the last promise value to make it available to the next\n",
              "    // step of the generator.\n",
              "    outputElement.lastPromiseValue = value;\n",
              "    return next.value.response;\n",
              "  });\n",
              "}\n",
              "\n",
              "/**\n",
              " * Generator function which is called between each async step of the upload\n",
              " * process.\n",
              " * @param {string} inputId Element ID of the input file picker element.\n",
              " * @param {string} outputId Element ID of the output display.\n",
              " * @return {!Iterable<!Object>} Iterable of next steps.\n",
              " */\n",
              "function* uploadFilesStep(inputId, outputId) {\n",
              "  const inputElement = document.getElementById(inputId);\n",
              "  inputElement.disabled = false;\n",
              "\n",
              "  const outputElement = document.getElementById(outputId);\n",
              "  outputElement.innerHTML = '';\n",
              "\n",
              "  const pickedPromise = new Promise((resolve) => {\n",
              "    inputElement.addEventListener('change', (e) => {\n",
              "      resolve(e.target.files);\n",
              "    });\n",
              "  });\n",
              "\n",
              "  const cancel = document.createElement('button');\n",
              "  inputElement.parentElement.appendChild(cancel);\n",
              "  cancel.textContent = 'Cancel upload';\n",
              "  const cancelPromise = new Promise((resolve) => {\n",
              "    cancel.onclick = () => {\n",
              "      resolve(null);\n",
              "    };\n",
              "  });\n",
              "\n",
              "  // Wait for the user to pick the files.\n",
              "  const files = yield {\n",
              "    promise: Promise.race([pickedPromise, cancelPromise]),\n",
              "    response: {\n",
              "      action: 'starting',\n",
              "    }\n",
              "  };\n",
              "\n",
              "  cancel.remove();\n",
              "\n",
              "  // Disable the input element since further picks are not allowed.\n",
              "  inputElement.disabled = true;\n",
              "\n",
              "  if (!files) {\n",
              "    return {\n",
              "      response: {\n",
              "        action: 'complete',\n",
              "      }\n",
              "    };\n",
              "  }\n",
              "\n",
              "  for (const file of files) {\n",
              "    const li = document.createElement('li');\n",
              "    li.append(span(file.name, {fontWeight: 'bold'}));\n",
              "    li.append(span(\n",
              "        `(${file.type || 'n/a'}) - ${file.size} bytes, ` +\n",
              "        `last modified: ${\n",
              "            file.lastModifiedDate ? file.lastModifiedDate.toLocaleDateString() :\n",
              "                                    'n/a'} - `));\n",
              "    const percent = span('0% done');\n",
              "    li.appendChild(percent);\n",
              "\n",
              "    outputElement.appendChild(li);\n",
              "\n",
              "    const fileDataPromise = new Promise((resolve) => {\n",
              "      const reader = new FileReader();\n",
              "      reader.onload = (e) => {\n",
              "        resolve(e.target.result);\n",
              "      };\n",
              "      reader.readAsArrayBuffer(file);\n",
              "    });\n",
              "    // Wait for the data to be ready.\n",
              "    let fileData = yield {\n",
              "      promise: fileDataPromise,\n",
              "      response: {\n",
              "        action: 'continue',\n",
              "      }\n",
              "    };\n",
              "\n",
              "    // Use a chunked sending to avoid message size limits. See b/62115660.\n",
              "    let position = 0;\n",
              "    do {\n",
              "      const length = Math.min(fileData.byteLength - position, MAX_PAYLOAD_SIZE);\n",
              "      const chunk = new Uint8Array(fileData, position, length);\n",
              "      position += length;\n",
              "\n",
              "      const base64 = btoa(String.fromCharCode.apply(null, chunk));\n",
              "      yield {\n",
              "        response: {\n",
              "          action: 'append',\n",
              "          file: file.name,\n",
              "          data: base64,\n",
              "        },\n",
              "      };\n",
              "\n",
              "      let percentDone = fileData.byteLength === 0 ?\n",
              "          100 :\n",
              "          Math.round((position / fileData.byteLength) * 100);\n",
              "      percent.textContent = `${percentDone}% done`;\n",
              "\n",
              "    } while (position < fileData.byteLength);\n",
              "  }\n",
              "\n",
              "  // All done.\n",
              "  yield {\n",
              "    response: {\n",
              "      action: 'complete',\n",
              "    }\n",
              "  };\n",
              "}\n",
              "\n",
              "scope.google = scope.google || {};\n",
              "scope.google.colab = scope.google.colab || {};\n",
              "scope.google.colab._files = {\n",
              "  _uploadFiles,\n",
              "  _uploadFilesContinue,\n",
              "};\n",
              "})(self);\n",
              "</script> "
            ]
          },
          "metadata": {}
        },
        {
          "output_type": "stream",
          "name": "stdout",
          "text": [
            "Saving Tábuas.xlsx to Tábuas.xlsx\n",
            "Arquivo \"Tábuas.xlsx\" importado com 105581 bytes\n"
          ]
        }
      ]
    },
    {
      "cell_type": "markdown",
      "source": [
        "Ao executar esse código, será exibido um botão \"Escolher arquivos\". Clique nele e selecione o arquivo .xlsx do seu computador. O arquivo será então carregado para o ambiente do Google Colab."
      ],
      "metadata": {
        "id": "u02pOe91yIyH"
      }
    },
    {
      "cell_type": "markdown",
      "source": [
        "Agora, vamos usar a biblioteca Pandas para ler o arquivo .xlsx e carregar os dados de mortalidade:"
      ],
      "metadata": {
        "id": "ITvqP6BLx-Ge"
      }
    },
    {
      "cell_type": "code",
      "source": [
        "import pandas as pd\n",
        "\n",
        "# Supondo que o nome do arquivo carregado seja 'Tábuas.xlsx'\n",
        "data = pd.read_excel('Tábuas.xlsx')\n",
        "\n",
        "# Mostrando as primeiras linhas do arquivo para verificar se foi carregado corretamente\n",
        "data.loc[10:21]\n"
      ],
      "metadata": {
        "colab": {
          "base_uri": "https://localhost:8080/",
          "height": 527
        },
        "id": "1CCh_ECBxW-Z",
        "outputId": "dd2d02bb-8a28-438c-cfb6-3e6f72d64171"
      },
      "execution_count": null,
      "outputs": [
        {
          "output_type": "execute_result",
          "data": {
            "text/plain": [
              "    Idade  ALLG-72  AMERICAN EXPERIENCE  AT2000 (Suavizada 10%)_FEM  \\\n",
              "10     10  0.00000              0.00749                    0.000126   \n",
              "11     11  0.00000              0.00752                    0.000133   \n",
              "12     12  0.00000              0.00754                    0.000142   \n",
              "13     13  0.00000              0.00757                    0.000152   \n",
              "14     14  0.00065              0.00760                    0.000164   \n",
              "15     15  0.00062              0.00763                    0.000177   \n",
              "16     16  0.00085              0.00766                    0.000190   \n",
              "17     17  0.00112              0.00769                    0.000204   \n",
              "18     18  0.00132              0.00773                    0.000219   \n",
              "19     19  0.00135              0.00777                    0.000234   \n",
              "20     20  0.00132              0.00780                    0.000250   \n",
              "21     21  0.00128              0.00786                    0.000265   \n",
              "\n",
              "    AT2000 (Suavizada 10%)_MAS  AT-2000 FEMALE  AT-2000 MALE  AT-49 FEMALE  \\\n",
              "10                    0.000350        0.000140      0.000390      0.000191   \n",
              "11                    0.000371        0.000148      0.000413      0.000208   \n",
              "12                    0.000388        0.000158      0.000431      0.000225   \n",
              "13                    0.000402        0.000170      0.000446      0.000242   \n",
              "14                    0.000414        0.000183      0.000458      0.000260   \n",
              "15                    0.000425        0.000197      0.000470      0.000278   \n",
              "16                    0.000437        0.000212      0.000481      0.000296   \n",
              "17                    0.000449        0.000228      0.000495      0.000315   \n",
              "18                    0.000463        0.000244      0.000510      0.000334   \n",
              "19                    0.000480        0.000260      0.000528      0.000354   \n",
              "20                    0.000499        0.000277      0.000549      0.000376   \n",
              "21                    0.000519        0.000294      0.000573      0.000398   \n",
              "\n",
              "    AT-49 MALE     AT-50  ...  RRB-1944 Mod - Masc  TASA-1927  WYATT 1985   \\\n",
              "10    0.000483  0.000483  ...               0.0000    0.00000      0.00000   \n",
              "11    0.000492  0.000492  ...               0.0000    0.00000      0.00000   \n",
              "12    0.000502  0.000502  ...               0.0000    0.00000      0.00000   \n",
              "13    0.000512  0.000512  ...               0.0000    0.00000      0.00000   \n",
              "14    0.000524  0.000524  ...               0.0000    0.00000      0.00000   \n",
              "15    0.000537  0.000537  ...               0.0000    0.00036      0.00022   \n",
              "16    0.000551  0.000551  ...               0.0012    0.00037      0.00024   \n",
              "17    0.000567  0.000567  ...               0.0012    0.00038      0.00025   \n",
              "18    0.000584  0.000584  ...               0.0012    0.00040      0.00026   \n",
              "19    0.000603  0.000603  ...               0.0012    0.00043      0.00028   \n",
              "20    0.000624  0.000624  ...               0.0012    0.00046      0.00030   \n",
              "21    0.000648  0.000648  ...               0.0012    0.00049      0.00031   \n",
              "\n",
              "    ZIMMERMANN EMPR. ESCRIT  Atuários Ingleses  Hubbard Laffitte  J.P. Jansen  \\\n",
              "10                  0.00000               0.00              0.00         0.00   \n",
              "11                  0.00000               0.00              0.00         0.00   \n",
              "12                  0.00000               0.00              0.00         0.00   \n",
              "13                  0.00000               0.00              0.00         0.00   \n",
              "14                  0.00000               0.00              0.00         0.00   \n",
              "15                  0.00000               0.00              0.00         0.00   \n",
              "16                  0.00000            6566.00              4.00         0.00   \n",
              "17                  0.00000               6.44           4065.00         0.00   \n",
              "18                  0.00000            6216.00              4.14         0.00   \n",
              "19                  0.00000            5913.00              4.25         0.00   \n",
              "20                  0.00020            5698.00           4365.00         4.50   \n",
              "21                  0.00023            5516.00           4495.00         4.55   \n",
              "\n",
              "    Kinkelin  Moser  Samuel Dumas  \n",
              "10      0.00   0.00          0.00  \n",
              "11      0.00   0.00          0.00  \n",
              "12      0.00   0.00          0.00  \n",
              "13      0.00   0.00          0.00  \n",
              "14      0.00   0.00          0.00  \n",
              "15      0.00   0.00          0.00  \n",
              "16      6.32   6.87          0.00  \n",
              "17      6.16   6.65          6.51  \n",
              "18      6.02   6.36          6.61  \n",
              "19      5.89   5.90          6.69  \n",
              "20      5.78   5.39          6.77  \n",
              "21      5.68   5.12          6.87  \n",
              "\n",
              "[12 rows x 108 columns]"
            ],
            "text/html": [
              "\n",
              "  <div id=\"df-7aec89ae-d41a-4982-8fde-f8669e500dc6\" class=\"colab-df-container\">\n",
              "    <div>\n",
              "<style scoped>\n",
              "    .dataframe tbody tr th:only-of-type {\n",
              "        vertical-align: middle;\n",
              "    }\n",
              "\n",
              "    .dataframe tbody tr th {\n",
              "        vertical-align: top;\n",
              "    }\n",
              "\n",
              "    .dataframe thead th {\n",
              "        text-align: right;\n",
              "    }\n",
              "</style>\n",
              "<table border=\"1\" class=\"dataframe\">\n",
              "  <thead>\n",
              "    <tr style=\"text-align: right;\">\n",
              "      <th></th>\n",
              "      <th>Idade</th>\n",
              "      <th>ALLG-72</th>\n",
              "      <th>AMERICAN EXPERIENCE</th>\n",
              "      <th>AT2000 (Suavizada 10%)_FEM</th>\n",
              "      <th>AT2000 (Suavizada 10%)_MAS</th>\n",
              "      <th>AT-2000 FEMALE</th>\n",
              "      <th>AT-2000 MALE</th>\n",
              "      <th>AT-49 FEMALE</th>\n",
              "      <th>AT-49 MALE</th>\n",
              "      <th>AT-50</th>\n",
              "      <th>...</th>\n",
              "      <th>RRB-1944 Mod - Masc</th>\n",
              "      <th>TASA-1927</th>\n",
              "      <th>WYATT 1985</th>\n",
              "      <th>ZIMMERMANN EMPR. ESCRIT</th>\n",
              "      <th>Atuários Ingleses</th>\n",
              "      <th>Hubbard Laffitte</th>\n",
              "      <th>J.P. Jansen</th>\n",
              "      <th>Kinkelin</th>\n",
              "      <th>Moser</th>\n",
              "      <th>Samuel Dumas</th>\n",
              "    </tr>\n",
              "  </thead>\n",
              "  <tbody>\n",
              "    <tr>\n",
              "      <th>10</th>\n",
              "      <td>10</td>\n",
              "      <td>0.00000</td>\n",
              "      <td>0.00749</td>\n",
              "      <td>0.000126</td>\n",
              "      <td>0.000350</td>\n",
              "      <td>0.000140</td>\n",
              "      <td>0.000390</td>\n",
              "      <td>0.000191</td>\n",
              "      <td>0.000483</td>\n",
              "      <td>0.000483</td>\n",
              "      <td>...</td>\n",
              "      <td>0.0000</td>\n",
              "      <td>0.00000</td>\n",
              "      <td>0.00000</td>\n",
              "      <td>0.00000</td>\n",
              "      <td>0.00</td>\n",
              "      <td>0.00</td>\n",
              "      <td>0.00</td>\n",
              "      <td>0.00</td>\n",
              "      <td>0.00</td>\n",
              "      <td>0.00</td>\n",
              "    </tr>\n",
              "    <tr>\n",
              "      <th>11</th>\n",
              "      <td>11</td>\n",
              "      <td>0.00000</td>\n",
              "      <td>0.00752</td>\n",
              "      <td>0.000133</td>\n",
              "      <td>0.000371</td>\n",
              "      <td>0.000148</td>\n",
              "      <td>0.000413</td>\n",
              "      <td>0.000208</td>\n",
              "      <td>0.000492</td>\n",
              "      <td>0.000492</td>\n",
              "      <td>...</td>\n",
              "      <td>0.0000</td>\n",
              "      <td>0.00000</td>\n",
              "      <td>0.00000</td>\n",
              "      <td>0.00000</td>\n",
              "      <td>0.00</td>\n",
              "      <td>0.00</td>\n",
              "      <td>0.00</td>\n",
              "      <td>0.00</td>\n",
              "      <td>0.00</td>\n",
              "      <td>0.00</td>\n",
              "    </tr>\n",
              "    <tr>\n",
              "      <th>12</th>\n",
              "      <td>12</td>\n",
              "      <td>0.00000</td>\n",
              "      <td>0.00754</td>\n",
              "      <td>0.000142</td>\n",
              "      <td>0.000388</td>\n",
              "      <td>0.000158</td>\n",
              "      <td>0.000431</td>\n",
              "      <td>0.000225</td>\n",
              "      <td>0.000502</td>\n",
              "      <td>0.000502</td>\n",
              "      <td>...</td>\n",
              "      <td>0.0000</td>\n",
              "      <td>0.00000</td>\n",
              "      <td>0.00000</td>\n",
              "      <td>0.00000</td>\n",
              "      <td>0.00</td>\n",
              "      <td>0.00</td>\n",
              "      <td>0.00</td>\n",
              "      <td>0.00</td>\n",
              "      <td>0.00</td>\n",
              "      <td>0.00</td>\n",
              "    </tr>\n",
              "    <tr>\n",
              "      <th>13</th>\n",
              "      <td>13</td>\n",
              "      <td>0.00000</td>\n",
              "      <td>0.00757</td>\n",
              "      <td>0.000152</td>\n",
              "      <td>0.000402</td>\n",
              "      <td>0.000170</td>\n",
              "      <td>0.000446</td>\n",
              "      <td>0.000242</td>\n",
              "      <td>0.000512</td>\n",
              "      <td>0.000512</td>\n",
              "      <td>...</td>\n",
              "      <td>0.0000</td>\n",
              "      <td>0.00000</td>\n",
              "      <td>0.00000</td>\n",
              "      <td>0.00000</td>\n",
              "      <td>0.00</td>\n",
              "      <td>0.00</td>\n",
              "      <td>0.00</td>\n",
              "      <td>0.00</td>\n",
              "      <td>0.00</td>\n",
              "      <td>0.00</td>\n",
              "    </tr>\n",
              "    <tr>\n",
              "      <th>14</th>\n",
              "      <td>14</td>\n",
              "      <td>0.00065</td>\n",
              "      <td>0.00760</td>\n",
              "      <td>0.000164</td>\n",
              "      <td>0.000414</td>\n",
              "      <td>0.000183</td>\n",
              "      <td>0.000458</td>\n",
              "      <td>0.000260</td>\n",
              "      <td>0.000524</td>\n",
              "      <td>0.000524</td>\n",
              "      <td>...</td>\n",
              "      <td>0.0000</td>\n",
              "      <td>0.00000</td>\n",
              "      <td>0.00000</td>\n",
              "      <td>0.00000</td>\n",
              "      <td>0.00</td>\n",
              "      <td>0.00</td>\n",
              "      <td>0.00</td>\n",
              "      <td>0.00</td>\n",
              "      <td>0.00</td>\n",
              "      <td>0.00</td>\n",
              "    </tr>\n",
              "    <tr>\n",
              "      <th>15</th>\n",
              "      <td>15</td>\n",
              "      <td>0.00062</td>\n",
              "      <td>0.00763</td>\n",
              "      <td>0.000177</td>\n",
              "      <td>0.000425</td>\n",
              "      <td>0.000197</td>\n",
              "      <td>0.000470</td>\n",
              "      <td>0.000278</td>\n",
              "      <td>0.000537</td>\n",
              "      <td>0.000537</td>\n",
              "      <td>...</td>\n",
              "      <td>0.0000</td>\n",
              "      <td>0.00036</td>\n",
              "      <td>0.00022</td>\n",
              "      <td>0.00000</td>\n",
              "      <td>0.00</td>\n",
              "      <td>0.00</td>\n",
              "      <td>0.00</td>\n",
              "      <td>0.00</td>\n",
              "      <td>0.00</td>\n",
              "      <td>0.00</td>\n",
              "    </tr>\n",
              "    <tr>\n",
              "      <th>16</th>\n",
              "      <td>16</td>\n",
              "      <td>0.00085</td>\n",
              "      <td>0.00766</td>\n",
              "      <td>0.000190</td>\n",
              "      <td>0.000437</td>\n",
              "      <td>0.000212</td>\n",
              "      <td>0.000481</td>\n",
              "      <td>0.000296</td>\n",
              "      <td>0.000551</td>\n",
              "      <td>0.000551</td>\n",
              "      <td>...</td>\n",
              "      <td>0.0012</td>\n",
              "      <td>0.00037</td>\n",
              "      <td>0.00024</td>\n",
              "      <td>0.00000</td>\n",
              "      <td>6566.00</td>\n",
              "      <td>4.00</td>\n",
              "      <td>0.00</td>\n",
              "      <td>6.32</td>\n",
              "      <td>6.87</td>\n",
              "      <td>0.00</td>\n",
              "    </tr>\n",
              "    <tr>\n",
              "      <th>17</th>\n",
              "      <td>17</td>\n",
              "      <td>0.00112</td>\n",
              "      <td>0.00769</td>\n",
              "      <td>0.000204</td>\n",
              "      <td>0.000449</td>\n",
              "      <td>0.000228</td>\n",
              "      <td>0.000495</td>\n",
              "      <td>0.000315</td>\n",
              "      <td>0.000567</td>\n",
              "      <td>0.000567</td>\n",
              "      <td>...</td>\n",
              "      <td>0.0012</td>\n",
              "      <td>0.00038</td>\n",
              "      <td>0.00025</td>\n",
              "      <td>0.00000</td>\n",
              "      <td>6.44</td>\n",
              "      <td>4065.00</td>\n",
              "      <td>0.00</td>\n",
              "      <td>6.16</td>\n",
              "      <td>6.65</td>\n",
              "      <td>6.51</td>\n",
              "    </tr>\n",
              "    <tr>\n",
              "      <th>18</th>\n",
              "      <td>18</td>\n",
              "      <td>0.00132</td>\n",
              "      <td>0.00773</td>\n",
              "      <td>0.000219</td>\n",
              "      <td>0.000463</td>\n",
              "      <td>0.000244</td>\n",
              "      <td>0.000510</td>\n",
              "      <td>0.000334</td>\n",
              "      <td>0.000584</td>\n",
              "      <td>0.000584</td>\n",
              "      <td>...</td>\n",
              "      <td>0.0012</td>\n",
              "      <td>0.00040</td>\n",
              "      <td>0.00026</td>\n",
              "      <td>0.00000</td>\n",
              "      <td>6216.00</td>\n",
              "      <td>4.14</td>\n",
              "      <td>0.00</td>\n",
              "      <td>6.02</td>\n",
              "      <td>6.36</td>\n",
              "      <td>6.61</td>\n",
              "    </tr>\n",
              "    <tr>\n",
              "      <th>19</th>\n",
              "      <td>19</td>\n",
              "      <td>0.00135</td>\n",
              "      <td>0.00777</td>\n",
              "      <td>0.000234</td>\n",
              "      <td>0.000480</td>\n",
              "      <td>0.000260</td>\n",
              "      <td>0.000528</td>\n",
              "      <td>0.000354</td>\n",
              "      <td>0.000603</td>\n",
              "      <td>0.000603</td>\n",
              "      <td>...</td>\n",
              "      <td>0.0012</td>\n",
              "      <td>0.00043</td>\n",
              "      <td>0.00028</td>\n",
              "      <td>0.00000</td>\n",
              "      <td>5913.00</td>\n",
              "      <td>4.25</td>\n",
              "      <td>0.00</td>\n",
              "      <td>5.89</td>\n",
              "      <td>5.90</td>\n",
              "      <td>6.69</td>\n",
              "    </tr>\n",
              "    <tr>\n",
              "      <th>20</th>\n",
              "      <td>20</td>\n",
              "      <td>0.00132</td>\n",
              "      <td>0.00780</td>\n",
              "      <td>0.000250</td>\n",
              "      <td>0.000499</td>\n",
              "      <td>0.000277</td>\n",
              "      <td>0.000549</td>\n",
              "      <td>0.000376</td>\n",
              "      <td>0.000624</td>\n",
              "      <td>0.000624</td>\n",
              "      <td>...</td>\n",
              "      <td>0.0012</td>\n",
              "      <td>0.00046</td>\n",
              "      <td>0.00030</td>\n",
              "      <td>0.00020</td>\n",
              "      <td>5698.00</td>\n",
              "      <td>4365.00</td>\n",
              "      <td>4.50</td>\n",
              "      <td>5.78</td>\n",
              "      <td>5.39</td>\n",
              "      <td>6.77</td>\n",
              "    </tr>\n",
              "    <tr>\n",
              "      <th>21</th>\n",
              "      <td>21</td>\n",
              "      <td>0.00128</td>\n",
              "      <td>0.00786</td>\n",
              "      <td>0.000265</td>\n",
              "      <td>0.000519</td>\n",
              "      <td>0.000294</td>\n",
              "      <td>0.000573</td>\n",
              "      <td>0.000398</td>\n",
              "      <td>0.000648</td>\n",
              "      <td>0.000648</td>\n",
              "      <td>...</td>\n",
              "      <td>0.0012</td>\n",
              "      <td>0.00049</td>\n",
              "      <td>0.00031</td>\n",
              "      <td>0.00023</td>\n",
              "      <td>5516.00</td>\n",
              "      <td>4495.00</td>\n",
              "      <td>4.55</td>\n",
              "      <td>5.68</td>\n",
              "      <td>5.12</td>\n",
              "      <td>6.87</td>\n",
              "    </tr>\n",
              "  </tbody>\n",
              "</table>\n",
              "<p>12 rows × 108 columns</p>\n",
              "</div>\n",
              "    <div class=\"colab-df-buttons\">\n",
              "\n",
              "  <div class=\"colab-df-container\">\n",
              "    <button class=\"colab-df-convert\" onclick=\"convertToInteractive('df-7aec89ae-d41a-4982-8fde-f8669e500dc6')\"\n",
              "            title=\"Convert this dataframe to an interactive table.\"\n",
              "            style=\"display:none;\">\n",
              "\n",
              "  <svg xmlns=\"http://www.w3.org/2000/svg\" height=\"24px\" viewBox=\"0 -960 960 960\">\n",
              "    <path d=\"M120-120v-720h720v720H120Zm60-500h600v-160H180v160Zm220 220h160v-160H400v160Zm0 220h160v-160H400v160ZM180-400h160v-160H180v160Zm440 0h160v-160H620v160ZM180-180h160v-160H180v160Zm440 0h160v-160H620v160Z\"/>\n",
              "  </svg>\n",
              "    </button>\n",
              "\n",
              "  <style>\n",
              "    .colab-df-container {\n",
              "      display:flex;\n",
              "      gap: 12px;\n",
              "    }\n",
              "\n",
              "    .colab-df-convert {\n",
              "      background-color: #E8F0FE;\n",
              "      border: none;\n",
              "      border-radius: 50%;\n",
              "      cursor: pointer;\n",
              "      display: none;\n",
              "      fill: #1967D2;\n",
              "      height: 32px;\n",
              "      padding: 0 0 0 0;\n",
              "      width: 32px;\n",
              "    }\n",
              "\n",
              "    .colab-df-convert:hover {\n",
              "      background-color: #E2EBFA;\n",
              "      box-shadow: 0px 1px 2px rgba(60, 64, 67, 0.3), 0px 1px 3px 1px rgba(60, 64, 67, 0.15);\n",
              "      fill: #174EA6;\n",
              "    }\n",
              "\n",
              "    .colab-df-buttons div {\n",
              "      margin-bottom: 4px;\n",
              "    }\n",
              "\n",
              "    [theme=dark] .colab-df-convert {\n",
              "      background-color: #3B4455;\n",
              "      fill: #D2E3FC;\n",
              "    }\n",
              "\n",
              "    [theme=dark] .colab-df-convert:hover {\n",
              "      background-color: #434B5C;\n",
              "      box-shadow: 0px 1px 3px 1px rgba(0, 0, 0, 0.15);\n",
              "      filter: drop-shadow(0px 1px 2px rgba(0, 0, 0, 0.3));\n",
              "      fill: #FFFFFF;\n",
              "    }\n",
              "  </style>\n",
              "\n",
              "    <script>\n",
              "      const buttonEl =\n",
              "        document.querySelector('#df-7aec89ae-d41a-4982-8fde-f8669e500dc6 button.colab-df-convert');\n",
              "      buttonEl.style.display =\n",
              "        google.colab.kernel.accessAllowed ? 'block' : 'none';\n",
              "\n",
              "      async function convertToInteractive(key) {\n",
              "        const element = document.querySelector('#df-7aec89ae-d41a-4982-8fde-f8669e500dc6');\n",
              "        const dataTable =\n",
              "          await google.colab.kernel.invokeFunction('convertToInteractive',\n",
              "                                                    [key], {});\n",
              "        if (!dataTable) return;\n",
              "\n",
              "        const docLinkHtml = 'Like what you see? Visit the ' +\n",
              "          '<a target=\"_blank\" href=https://colab.research.google.com/notebooks/data_table.ipynb>data table notebook</a>'\n",
              "          + ' to learn more about interactive tables.';\n",
              "        element.innerHTML = '';\n",
              "        dataTable['output_type'] = 'display_data';\n",
              "        await google.colab.output.renderOutput(dataTable, element);\n",
              "        const docLink = document.createElement('div');\n",
              "        docLink.innerHTML = docLinkHtml;\n",
              "        element.appendChild(docLink);\n",
              "      }\n",
              "    </script>\n",
              "  </div>\n",
              "\n",
              "\n",
              "<div id=\"df-02072696-42e8-478b-b872-23dac55dd52d\">\n",
              "  <button class=\"colab-df-quickchart\" onclick=\"quickchart('df-02072696-42e8-478b-b872-23dac55dd52d')\"\n",
              "            title=\"Suggest charts.\"\n",
              "            style=\"display:none;\">\n",
              "\n",
              "<svg xmlns=\"http://www.w3.org/2000/svg\" height=\"24px\"viewBox=\"0 0 24 24\"\n",
              "     width=\"24px\">\n",
              "    <g>\n",
              "        <path d=\"M19 3H5c-1.1 0-2 .9-2 2v14c0 1.1.9 2 2 2h14c1.1 0 2-.9 2-2V5c0-1.1-.9-2-2-2zM9 17H7v-7h2v7zm4 0h-2V7h2v10zm4 0h-2v-4h2v4z\"/>\n",
              "    </g>\n",
              "</svg>\n",
              "  </button>\n",
              "\n",
              "<style>\n",
              "  .colab-df-quickchart {\n",
              "      --bg-color: #E8F0FE;\n",
              "      --fill-color: #1967D2;\n",
              "      --hover-bg-color: #E2EBFA;\n",
              "      --hover-fill-color: #174EA6;\n",
              "      --disabled-fill-color: #AAA;\n",
              "      --disabled-bg-color: #DDD;\n",
              "  }\n",
              "\n",
              "  [theme=dark] .colab-df-quickchart {\n",
              "      --bg-color: #3B4455;\n",
              "      --fill-color: #D2E3FC;\n",
              "      --hover-bg-color: #434B5C;\n",
              "      --hover-fill-color: #FFFFFF;\n",
              "      --disabled-bg-color: #3B4455;\n",
              "      --disabled-fill-color: #666;\n",
              "  }\n",
              "\n",
              "  .colab-df-quickchart {\n",
              "    background-color: var(--bg-color);\n",
              "    border: none;\n",
              "    border-radius: 50%;\n",
              "    cursor: pointer;\n",
              "    display: none;\n",
              "    fill: var(--fill-color);\n",
              "    height: 32px;\n",
              "    padding: 0;\n",
              "    width: 32px;\n",
              "  }\n",
              "\n",
              "  .colab-df-quickchart:hover {\n",
              "    background-color: var(--hover-bg-color);\n",
              "    box-shadow: 0 1px 2px rgba(60, 64, 67, 0.3), 0 1px 3px 1px rgba(60, 64, 67, 0.15);\n",
              "    fill: var(--button-hover-fill-color);\n",
              "  }\n",
              "\n",
              "  .colab-df-quickchart-complete:disabled,\n",
              "  .colab-df-quickchart-complete:disabled:hover {\n",
              "    background-color: var(--disabled-bg-color);\n",
              "    fill: var(--disabled-fill-color);\n",
              "    box-shadow: none;\n",
              "  }\n",
              "\n",
              "  .colab-df-spinner {\n",
              "    border: 2px solid var(--fill-color);\n",
              "    border-color: transparent;\n",
              "    border-bottom-color: var(--fill-color);\n",
              "    animation:\n",
              "      spin 1s steps(1) infinite;\n",
              "  }\n",
              "\n",
              "  @keyframes spin {\n",
              "    0% {\n",
              "      border-color: transparent;\n",
              "      border-bottom-color: var(--fill-color);\n",
              "      border-left-color: var(--fill-color);\n",
              "    }\n",
              "    20% {\n",
              "      border-color: transparent;\n",
              "      border-left-color: var(--fill-color);\n",
              "      border-top-color: var(--fill-color);\n",
              "    }\n",
              "    30% {\n",
              "      border-color: transparent;\n",
              "      border-left-color: var(--fill-color);\n",
              "      border-top-color: var(--fill-color);\n",
              "      border-right-color: var(--fill-color);\n",
              "    }\n",
              "    40% {\n",
              "      border-color: transparent;\n",
              "      border-right-color: var(--fill-color);\n",
              "      border-top-color: var(--fill-color);\n",
              "    }\n",
              "    60% {\n",
              "      border-color: transparent;\n",
              "      border-right-color: var(--fill-color);\n",
              "    }\n",
              "    80% {\n",
              "      border-color: transparent;\n",
              "      border-right-color: var(--fill-color);\n",
              "      border-bottom-color: var(--fill-color);\n",
              "    }\n",
              "    90% {\n",
              "      border-color: transparent;\n",
              "      border-bottom-color: var(--fill-color);\n",
              "    }\n",
              "  }\n",
              "</style>\n",
              "\n",
              "  <script>\n",
              "    async function quickchart(key) {\n",
              "      const quickchartButtonEl =\n",
              "        document.querySelector('#' + key + ' button');\n",
              "      quickchartButtonEl.disabled = true;  // To prevent multiple clicks.\n",
              "      quickchartButtonEl.classList.add('colab-df-spinner');\n",
              "      try {\n",
              "        const charts = await google.colab.kernel.invokeFunction(\n",
              "            'suggestCharts', [key], {});\n",
              "      } catch (error) {\n",
              "        console.error('Error during call to suggestCharts:', error);\n",
              "      }\n",
              "      quickchartButtonEl.classList.remove('colab-df-spinner');\n",
              "      quickchartButtonEl.classList.add('colab-df-quickchart-complete');\n",
              "    }\n",
              "    (() => {\n",
              "      let quickchartButtonEl =\n",
              "        document.querySelector('#df-02072696-42e8-478b-b872-23dac55dd52d button');\n",
              "      quickchartButtonEl.style.display =\n",
              "        google.colab.kernel.accessAllowed ? 'block' : 'none';\n",
              "    })();\n",
              "  </script>\n",
              "</div>\n",
              "    </div>\n",
              "  </div>\n"
            ]
          },
          "metadata": {},
          "execution_count": 53
        }
      ]
    },
    {
      "cell_type": "markdown",
      "source": [
        "Após esses passos, o DataFrame data conterá os qx das tábuas de mortalidade. Você pode então prosseguir com os cálculos das funções biométricas e comutações usando esse DataFrame."
      ],
      "metadata": {
        "id": "PjrXkV-RyRaa"
      }
    },
    {
      "cell_type": "markdown",
      "source": [
        "![image.png](data:image/png;base64,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)"
      ],
      "metadata": {
        "id": "lTB805OJrdp5"
      }
    },
    {
      "cell_type": "code",
      "source": [
        "def calcular_funcoes_biometricas(df, nome_tabua):\n",
        "\n",
        "    # Criar um novo DataFrame com a coluna Idade e qx da tábua selecionada\n",
        "    tabua = df[['Idade', nome_tabua]].copy()\n",
        "    tabua.columns = ['Idade', 'qx']\n",
        "\n",
        "    # Calcular lx: começando com l0 = 100000 (por convenção)\n",
        "    tabua['lx'] = 100000\n",
        "    for i in range(1, len(tabua)):\n",
        "        tabua.loc[i, 'lx'] = tabua.loc[i-1, 'lx'] * (1 - tabua.loc[i-1, 'qx'])\n",
        "\n",
        "    # Calcular dx\n",
        "    tabua['dx'] = tabua['lx'] * tabua['qx']\n",
        "\n",
        "    # Calcular px\n",
        "    tabua['px'] = 1 - tabua['qx']\n",
        "\n",
        "    return tabua[['Idade', 'qx', 'lx', 'dx', 'px']]"
      ],
      "metadata": {
        "id": "l0rE0Cv51ulm"
      },
      "execution_count": null,
      "outputs": []
    },
    {
      "cell_type": "code",
      "source": [
        "# Para usar a função:\n",
        "df_func_bio = calcular_funcoes_biometricas(data, 'AT-2000 MALE')\n",
        "df_func_bio"
      ],
      "metadata": {
        "colab": {
          "base_uri": "https://localhost:8080/",
          "height": 423
        },
        "id": "7VtJaK174Hhc",
        "outputId": "e559e986-8dea-4937-961c-91f0f5576570"
      },
      "execution_count": null,
      "outputs": [
        {
          "output_type": "execute_result",
          "data": {
            "text/plain": [
              "     Idade        qx             lx          dx        px\n",
              "0        0  0.002311  100000.000000  231.100000  0.997689\n",
              "1        1  0.000906   99768.900000   90.390623  0.999094\n",
              "2        2  0.000504   99678.509377   50.237969  0.999496\n",
              "3        3  0.000408   99628.271408   40.648335  0.999592\n",
              "4        4  0.000357   99587.623073   35.552781  0.999643\n",
              "..     ...       ...            ...         ...       ...\n",
              "122    122  1.000000       0.000000    0.000000  0.000000\n",
              "123    123  1.000000       0.000000    0.000000  0.000000\n",
              "124    124  1.000000       0.000000    0.000000  0.000000\n",
              "125    125  1.000000       0.000000    0.000000  0.000000\n",
              "126    126  1.000000       0.000000    0.000000  0.000000\n",
              "\n",
              "[127 rows x 5 columns]"
            ],
            "text/html": [
              "\n",
              "  <div id=\"df-d1d20bc5-21e3-4c8c-87fa-1565ee250fef\" class=\"colab-df-container\">\n",
              "    <div>\n",
              "<style scoped>\n",
              "    .dataframe tbody tr th:only-of-type {\n",
              "        vertical-align: middle;\n",
              "    }\n",
              "\n",
              "    .dataframe tbody tr th {\n",
              "        vertical-align: top;\n",
              "    }\n",
              "\n",
              "    .dataframe thead th {\n",
              "        text-align: right;\n",
              "    }\n",
              "</style>\n",
              "<table border=\"1\" class=\"dataframe\">\n",
              "  <thead>\n",
              "    <tr style=\"text-align: right;\">\n",
              "      <th></th>\n",
              "      <th>Idade</th>\n",
              "      <th>qx</th>\n",
              "      <th>lx</th>\n",
              "      <th>dx</th>\n",
              "      <th>px</th>\n",
              "    </tr>\n",
              "  </thead>\n",
              "  <tbody>\n",
              "    <tr>\n",
              "      <th>0</th>\n",
              "      <td>0</td>\n",
              "      <td>0.002311</td>\n",
              "      <td>100000.000000</td>\n",
              "      <td>231.100000</td>\n",
              "      <td>0.997689</td>\n",
              "    </tr>\n",
              "    <tr>\n",
              "      <th>1</th>\n",
              "      <td>1</td>\n",
              "      <td>0.000906</td>\n",
              "      <td>99768.900000</td>\n",
              "      <td>90.390623</td>\n",
              "      <td>0.999094</td>\n",
              "    </tr>\n",
              "    <tr>\n",
              "      <th>2</th>\n",
              "      <td>2</td>\n",
              "      <td>0.000504</td>\n",
              "      <td>99678.509377</td>\n",
              "      <td>50.237969</td>\n",
              "      <td>0.999496</td>\n",
              "    </tr>\n",
              "    <tr>\n",
              "      <th>3</th>\n",
              "      <td>3</td>\n",
              "      <td>0.000408</td>\n",
              "      <td>99628.271408</td>\n",
              "      <td>40.648335</td>\n",
              "      <td>0.999592</td>\n",
              "    </tr>\n",
              "    <tr>\n",
              "      <th>4</th>\n",
              "      <td>4</td>\n",
              "      <td>0.000357</td>\n",
              "      <td>99587.623073</td>\n",
              "      <td>35.552781</td>\n",
              "      <td>0.999643</td>\n",
              "    </tr>\n",
              "    <tr>\n",
              "      <th>...</th>\n",
              "      <td>...</td>\n",
              "      <td>...</td>\n",
              "      <td>...</td>\n",
              "      <td>...</td>\n",
              "      <td>...</td>\n",
              "    </tr>\n",
              "    <tr>\n",
              "      <th>122</th>\n",
              "      <td>122</td>\n",
              "      <td>1.000000</td>\n",
              "      <td>0.000000</td>\n",
              "      <td>0.000000</td>\n",
              "      <td>0.000000</td>\n",
              "    </tr>\n",
              "    <tr>\n",
              "      <th>123</th>\n",
              "      <td>123</td>\n",
              "      <td>1.000000</td>\n",
              "      <td>0.000000</td>\n",
              "      <td>0.000000</td>\n",
              "      <td>0.000000</td>\n",
              "    </tr>\n",
              "    <tr>\n",
              "      <th>124</th>\n",
              "      <td>124</td>\n",
              "      <td>1.000000</td>\n",
              "      <td>0.000000</td>\n",
              "      <td>0.000000</td>\n",
              "      <td>0.000000</td>\n",
              "    </tr>\n",
              "    <tr>\n",
              "      <th>125</th>\n",
              "      <td>125</td>\n",
              "      <td>1.000000</td>\n",
              "      <td>0.000000</td>\n",
              "      <td>0.000000</td>\n",
              "      <td>0.000000</td>\n",
              "    </tr>\n",
              "    <tr>\n",
              "      <th>126</th>\n",
              "      <td>126</td>\n",
              "      <td>1.000000</td>\n",
              "      <td>0.000000</td>\n",
              "      <td>0.000000</td>\n",
              "      <td>0.000000</td>\n",
              "    </tr>\n",
              "  </tbody>\n",
              "</table>\n",
              "<p>127 rows × 5 columns</p>\n",
              "</div>\n",
              "    <div class=\"colab-df-buttons\">\n",
              "\n",
              "  <div class=\"colab-df-container\">\n",
              "    <button class=\"colab-df-convert\" onclick=\"convertToInteractive('df-d1d20bc5-21e3-4c8c-87fa-1565ee250fef')\"\n",
              "            title=\"Convert this dataframe to an interactive table.\"\n",
              "            style=\"display:none;\">\n",
              "\n",
              "  <svg xmlns=\"http://www.w3.org/2000/svg\" height=\"24px\" viewBox=\"0 -960 960 960\">\n",
              "    <path d=\"M120-120v-720h720v720H120Zm60-500h600v-160H180v160Zm220 220h160v-160H400v160Zm0 220h160v-160H400v160ZM180-400h160v-160H180v160Zm440 0h160v-160H620v160ZM180-180h160v-160H180v160Zm440 0h160v-160H620v160Z\"/>\n",
              "  </svg>\n",
              "    </button>\n",
              "\n",
              "  <style>\n",
              "    .colab-df-container {\n",
              "      display:flex;\n",
              "      gap: 12px;\n",
              "    }\n",
              "\n",
              "    .colab-df-convert {\n",
              "      background-color: #E8F0FE;\n",
              "      border: none;\n",
              "      border-radius: 50%;\n",
              "      cursor: pointer;\n",
              "      display: none;\n",
              "      fill: #1967D2;\n",
              "      height: 32px;\n",
              "      padding: 0 0 0 0;\n",
              "      width: 32px;\n",
              "    }\n",
              "\n",
              "    .colab-df-convert:hover {\n",
              "      background-color: #E2EBFA;\n",
              "      box-shadow: 0px 1px 2px rgba(60, 64, 67, 0.3), 0px 1px 3px 1px rgba(60, 64, 67, 0.15);\n",
              "      fill: #174EA6;\n",
              "    }\n",
              "\n",
              "    .colab-df-buttons div {\n",
              "      margin-bottom: 4px;\n",
              "    }\n",
              "\n",
              "    [theme=dark] .colab-df-convert {\n",
              "      background-color: #3B4455;\n",
              "      fill: #D2E3FC;\n",
              "    }\n",
              "\n",
              "    [theme=dark] .colab-df-convert:hover {\n",
              "      background-color: #434B5C;\n",
              "      box-shadow: 0px 1px 3px 1px rgba(0, 0, 0, 0.15);\n",
              "      filter: drop-shadow(0px 1px 2px rgba(0, 0, 0, 0.3));\n",
              "      fill: #FFFFFF;\n",
              "    }\n",
              "  </style>\n",
              "\n",
              "    <script>\n",
              "      const buttonEl =\n",
              "        document.querySelector('#df-d1d20bc5-21e3-4c8c-87fa-1565ee250fef button.colab-df-convert');\n",
              "      buttonEl.style.display =\n",
              "        google.colab.kernel.accessAllowed ? 'block' : 'none';\n",
              "\n",
              "      async function convertToInteractive(key) {\n",
              "        const element = document.querySelector('#df-d1d20bc5-21e3-4c8c-87fa-1565ee250fef');\n",
              "        const dataTable =\n",
              "          await google.colab.kernel.invokeFunction('convertToInteractive',\n",
              "                                                    [key], {});\n",
              "        if (!dataTable) return;\n",
              "\n",
              "        const docLinkHtml = 'Like what you see? Visit the ' +\n",
              "          '<a target=\"_blank\" href=https://colab.research.google.com/notebooks/data_table.ipynb>data table notebook</a>'\n",
              "          + ' to learn more about interactive tables.';\n",
              "        element.innerHTML = '';\n",
              "        dataTable['output_type'] = 'display_data';\n",
              "        await google.colab.output.renderOutput(dataTable, element);\n",
              "        const docLink = document.createElement('div');\n",
              "        docLink.innerHTML = docLinkHtml;\n",
              "        element.appendChild(docLink);\n",
              "      }\n",
              "    </script>\n",
              "  </div>\n",
              "\n",
              "\n",
              "<div id=\"df-7e239537-7a89-4aaa-bbb2-8783c7f7ebe1\">\n",
              "  <button class=\"colab-df-quickchart\" onclick=\"quickchart('df-7e239537-7a89-4aaa-bbb2-8783c7f7ebe1')\"\n",
              "            title=\"Suggest charts.\"\n",
              "            style=\"display:none;\">\n",
              "\n",
              "<svg xmlns=\"http://www.w3.org/2000/svg\" height=\"24px\"viewBox=\"0 0 24 24\"\n",
              "     width=\"24px\">\n",
              "    <g>\n",
              "        <path d=\"M19 3H5c-1.1 0-2 .9-2 2v14c0 1.1.9 2 2 2h14c1.1 0 2-.9 2-2V5c0-1.1-.9-2-2-2zM9 17H7v-7h2v7zm4 0h-2V7h2v10zm4 0h-2v-4h2v4z\"/>\n",
              "    </g>\n",
              "</svg>\n",
              "  </button>\n",
              "\n",
              "<style>\n",
              "  .colab-df-quickchart {\n",
              "      --bg-color: #E8F0FE;\n",
              "      --fill-color: #1967D2;\n",
              "      --hover-bg-color: #E2EBFA;\n",
              "      --hover-fill-color: #174EA6;\n",
              "      --disabled-fill-color: #AAA;\n",
              "      --disabled-bg-color: #DDD;\n",
              "  }\n",
              "\n",
              "  [theme=dark] .colab-df-quickchart {\n",
              "      --bg-color: #3B4455;\n",
              "      --fill-color: #D2E3FC;\n",
              "      --hover-bg-color: #434B5C;\n",
              "      --hover-fill-color: #FFFFFF;\n",
              "      --disabled-bg-color: #3B4455;\n",
              "      --disabled-fill-color: #666;\n",
              "  }\n",
              "\n",
              "  .colab-df-quickchart {\n",
              "    background-color: var(--bg-color);\n",
              "    border: none;\n",
              "    border-radius: 50%;\n",
              "    cursor: pointer;\n",
              "    display: none;\n",
              "    fill: var(--fill-color);\n",
              "    height: 32px;\n",
              "    padding: 0;\n",
              "    width: 32px;\n",
              "  }\n",
              "\n",
              "  .colab-df-quickchart:hover {\n",
              "    background-color: var(--hover-bg-color);\n",
              "    box-shadow: 0 1px 2px rgba(60, 64, 67, 0.3), 0 1px 3px 1px rgba(60, 64, 67, 0.15);\n",
              "    fill: var(--button-hover-fill-color);\n",
              "  }\n",
              "\n",
              "  .colab-df-quickchart-complete:disabled,\n",
              "  .colab-df-quickchart-complete:disabled:hover {\n",
              "    background-color: var(--disabled-bg-color);\n",
              "    fill: var(--disabled-fill-color);\n",
              "    box-shadow: none;\n",
              "  }\n",
              "\n",
              "  .colab-df-spinner {\n",
              "    border: 2px solid var(--fill-color);\n",
              "    border-color: transparent;\n",
              "    border-bottom-color: var(--fill-color);\n",
              "    animation:\n",
              "      spin 1s steps(1) infinite;\n",
              "  }\n",
              "\n",
              "  @keyframes spin {\n",
              "    0% {\n",
              "      border-color: transparent;\n",
              "      border-bottom-color: var(--fill-color);\n",
              "      border-left-color: var(--fill-color);\n",
              "    }\n",
              "    20% {\n",
              "      border-color: transparent;\n",
              "      border-left-color: var(--fill-color);\n",
              "      border-top-color: var(--fill-color);\n",
              "    }\n",
              "    30% {\n",
              "      border-color: transparent;\n",
              "      border-left-color: var(--fill-color);\n",
              "      border-top-color: var(--fill-color);\n",
              "      border-right-color: var(--fill-color);\n",
              "    }\n",
              "    40% {\n",
              "      border-color: transparent;\n",
              "      border-right-color: var(--fill-color);\n",
              "      border-top-color: var(--fill-color);\n",
              "    }\n",
              "    60% {\n",
              "      border-color: transparent;\n",
              "      border-right-color: var(--fill-color);\n",
              "    }\n",
              "    80% {\n",
              "      border-color: transparent;\n",
              "      border-right-color: var(--fill-color);\n",
              "      border-bottom-color: var(--fill-color);\n",
              "    }\n",
              "    90% {\n",
              "      border-color: transparent;\n",
              "      border-bottom-color: var(--fill-color);\n",
              "    }\n",
              "  }\n",
              "</style>\n",
              "\n",
              "  <script>\n",
              "    async function quickchart(key) {\n",
              "      const quickchartButtonEl =\n",
              "        document.querySelector('#' + key + ' button');\n",
              "      quickchartButtonEl.disabled = true;  // To prevent multiple clicks.\n",
              "      quickchartButtonEl.classList.add('colab-df-spinner');\n",
              "      try {\n",
              "        const charts = await google.colab.kernel.invokeFunction(\n",
              "            'suggestCharts', [key], {});\n",
              "      } catch (error) {\n",
              "        console.error('Error during call to suggestCharts:', error);\n",
              "      }\n",
              "      quickchartButtonEl.classList.remove('colab-df-spinner');\n",
              "      quickchartButtonEl.classList.add('colab-df-quickchart-complete');\n",
              "    }\n",
              "    (() => {\n",
              "      let quickchartButtonEl =\n",
              "        document.querySelector('#df-7e239537-7a89-4aaa-bbb2-8783c7f7ebe1 button');\n",
              "      quickchartButtonEl.style.display =\n",
              "        google.colab.kernel.accessAllowed ? 'block' : 'none';\n",
              "    })();\n",
              "  </script>\n",
              "</div>\n",
              "    </div>\n",
              "  </div>\n"
            ]
          },
          "metadata": {},
          "execution_count": 45
        }
      ]
    },
    {
      "cell_type": "markdown",
      "source": [
        "![image.png](data:image/png;base64,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)"
      ],
      "metadata": {
        "id": "DEnL3vIs9TJS"
      }
    },
    {
      "cell_type": "code",
      "source": [
        "def calcular_comutacoes(tabua, taxa_juros):\n",
        "    # Fator de desconto\n",
        "    v = 1 / (1 + taxa_juros)\n",
        "\n",
        "    # Calcular D_x\n",
        "    tabua['Dx'] = tabua['lx'] * (v ** tabua['Idade'])\n",
        "\n",
        "    # Calcular N_x - somando os Dx subsequentes\n",
        "    tabua['Nx'] = tabua['Dx'][::-1].cumsum()[::-1]\n",
        "\n",
        "    return tabua[['Idade', 'Dx', 'Nx']]\n"
      ],
      "metadata": {
        "id": "mg_4XJql9TYd"
      },
      "execution_count": null,
      "outputs": []
    },
    {
      "cell_type": "code",
      "source": [
        "df_comutacao = calcular_comutacoes(df_func_bio, 0.05)\n",
        "df_comutacao"
      ],
      "metadata": {
        "colab": {
          "base_uri": "https://localhost:8080/",
          "height": 423
        },
        "id": "xq8qBwxF9UXU",
        "outputId": "88c5724f-c9a0-4eda-a61a-23c7da485da9"
      },
      "execution_count": null,
      "outputs": [
        {
          "output_type": "execute_result",
          "data": {
            "text/plain": [
              "     Idade             Dx            Nx\n",
              "0        0  100000.000000  2.031767e+06\n",
              "1        1   95018.000000  1.931767e+06\n",
              "2        2   90411.346373  1.836749e+06\n",
              "3        3   86062.646719  1.746338e+06\n",
              "4        4   81930.983961  1.660275e+06\n",
              "..     ...            ...           ...\n",
              "122    122       0.000000  0.000000e+00\n",
              "123    123       0.000000  0.000000e+00\n",
              "124    124       0.000000  0.000000e+00\n",
              "125    125       0.000000  0.000000e+00\n",
              "126    126       0.000000  0.000000e+00\n",
              "\n",
              "[127 rows x 3 columns]"
            ],
            "text/html": [
              "\n",
              "  <div id=\"df-f28808e6-ee26-4b5a-9928-3c32015a7b86\" class=\"colab-df-container\">\n",
              "    <div>\n",
              "<style scoped>\n",
              "    .dataframe tbody tr th:only-of-type {\n",
              "        vertical-align: middle;\n",
              "    }\n",
              "\n",
              "    .dataframe tbody tr th {\n",
              "        vertical-align: top;\n",
              "    }\n",
              "\n",
              "    .dataframe thead th {\n",
              "        text-align: right;\n",
              "    }\n",
              "</style>\n",
              "<table border=\"1\" class=\"dataframe\">\n",
              "  <thead>\n",
              "    <tr style=\"text-align: right;\">\n",
              "      <th></th>\n",
              "      <th>Idade</th>\n",
              "      <th>Dx</th>\n",
              "      <th>Nx</th>\n",
              "    </tr>\n",
              "  </thead>\n",
              "  <tbody>\n",
              "    <tr>\n",
              "      <th>0</th>\n",
              "      <td>0</td>\n",
              "      <td>100000.000000</td>\n",
              "      <td>2.031767e+06</td>\n",
              "    </tr>\n",
              "    <tr>\n",
              "      <th>1</th>\n",
              "      <td>1</td>\n",
              "      <td>95018.000000</td>\n",
              "      <td>1.931767e+06</td>\n",
              "    </tr>\n",
              "    <tr>\n",
              "      <th>2</th>\n",
              "      <td>2</td>\n",
              "      <td>90411.346373</td>\n",
              "      <td>1.836749e+06</td>\n",
              "    </tr>\n",
              "    <tr>\n",
              "      <th>3</th>\n",
              "      <td>3</td>\n",
              "      <td>86062.646719</td>\n",
              "      <td>1.746338e+06</td>\n",
              "    </tr>\n",
              "    <tr>\n",
              "      <th>4</th>\n",
              "      <td>4</td>\n",
              "      <td>81930.983961</td>\n",
              "      <td>1.660275e+06</td>\n",
              "    </tr>\n",
              "    <tr>\n",
              "      <th>...</th>\n",
              "      <td>...</td>\n",
              "      <td>...</td>\n",
              "      <td>...</td>\n",
              "    </tr>\n",
              "    <tr>\n",
              "      <th>122</th>\n",
              "      <td>122</td>\n",
              "      <td>0.000000</td>\n",
              "      <td>0.000000e+00</td>\n",
              "    </tr>\n",
              "    <tr>\n",
              "      <th>123</th>\n",
              "      <td>123</td>\n",
              "      <td>0.000000</td>\n",
              "      <td>0.000000e+00</td>\n",
              "    </tr>\n",
              "    <tr>\n",
              "      <th>124</th>\n",
              "      <td>124</td>\n",
              "      <td>0.000000</td>\n",
              "      <td>0.000000e+00</td>\n",
              "    </tr>\n",
              "    <tr>\n",
              "      <th>125</th>\n",
              "      <td>125</td>\n",
              "      <td>0.000000</td>\n",
              "      <td>0.000000e+00</td>\n",
              "    </tr>\n",
              "    <tr>\n",
              "      <th>126</th>\n",
              "      <td>126</td>\n",
              "      <td>0.000000</td>\n",
              "      <td>0.000000e+00</td>\n",
              "    </tr>\n",
              "  </tbody>\n",
              "</table>\n",
              "<p>127 rows × 3 columns</p>\n",
              "</div>\n",
              "    <div class=\"colab-df-buttons\">\n",
              "\n",
              "  <div class=\"colab-df-container\">\n",
              "    <button class=\"colab-df-convert\" onclick=\"convertToInteractive('df-f28808e6-ee26-4b5a-9928-3c32015a7b86')\"\n",
              "            title=\"Convert this dataframe to an interactive table.\"\n",
              "            style=\"display:none;\">\n",
              "\n",
              "  <svg xmlns=\"http://www.w3.org/2000/svg\" height=\"24px\" viewBox=\"0 -960 960 960\">\n",
              "    <path d=\"M120-120v-720h720v720H120Zm60-500h600v-160H180v160Zm220 220h160v-160H400v160Zm0 220h160v-160H400v160ZM180-400h160v-160H180v160Zm440 0h160v-160H620v160ZM180-180h160v-160H180v160Zm440 0h160v-160H620v160Z\"/>\n",
              "  </svg>\n",
              "    </button>\n",
              "\n",
              "  <style>\n",
              "    .colab-df-container {\n",
              "      display:flex;\n",
              "      gap: 12px;\n",
              "    }\n",
              "\n",
              "    .colab-df-convert {\n",
              "      background-color: #E8F0FE;\n",
              "      border: none;\n",
              "      border-radius: 50%;\n",
              "      cursor: pointer;\n",
              "      display: none;\n",
              "      fill: #1967D2;\n",
              "      height: 32px;\n",
              "      padding: 0 0 0 0;\n",
              "      width: 32px;\n",
              "    }\n",
              "\n",
              "    .colab-df-convert:hover {\n",
              "      background-color: #E2EBFA;\n",
              "      box-shadow: 0px 1px 2px rgba(60, 64, 67, 0.3), 0px 1px 3px 1px rgba(60, 64, 67, 0.15);\n",
              "      fill: #174EA6;\n",
              "    }\n",
              "\n",
              "    .colab-df-buttons div {\n",
              "      margin-bottom: 4px;\n",
              "    }\n",
              "\n",
              "    [theme=dark] .colab-df-convert {\n",
              "      background-color: #3B4455;\n",
              "      fill: #D2E3FC;\n",
              "    }\n",
              "\n",
              "    [theme=dark] .colab-df-convert:hover {\n",
              "      background-color: #434B5C;\n",
              "      box-shadow: 0px 1px 3px 1px rgba(0, 0, 0, 0.15);\n",
              "      filter: drop-shadow(0px 1px 2px rgba(0, 0, 0, 0.3));\n",
              "      fill: #FFFFFF;\n",
              "    }\n",
              "  </style>\n",
              "\n",
              "    <script>\n",
              "      const buttonEl =\n",
              "        document.querySelector('#df-f28808e6-ee26-4b5a-9928-3c32015a7b86 button.colab-df-convert');\n",
              "      buttonEl.style.display =\n",
              "        google.colab.kernel.accessAllowed ? 'block' : 'none';\n",
              "\n",
              "      async function convertToInteractive(key) {\n",
              "        const element = document.querySelector('#df-f28808e6-ee26-4b5a-9928-3c32015a7b86');\n",
              "        const dataTable =\n",
              "          await google.colab.kernel.invokeFunction('convertToInteractive',\n",
              "                                                    [key], {});\n",
              "        if (!dataTable) return;\n",
              "\n",
              "        const docLinkHtml = 'Like what you see? Visit the ' +\n",
              "          '<a target=\"_blank\" href=https://colab.research.google.com/notebooks/data_table.ipynb>data table notebook</a>'\n",
              "          + ' to learn more about interactive tables.';\n",
              "        element.innerHTML = '';\n",
              "        dataTable['output_type'] = 'display_data';\n",
              "        await google.colab.output.renderOutput(dataTable, element);\n",
              "        const docLink = document.createElement('div');\n",
              "        docLink.innerHTML = docLinkHtml;\n",
              "        element.appendChild(docLink);\n",
              "      }\n",
              "    </script>\n",
              "  </div>\n",
              "\n",
              "\n",
              "<div id=\"df-ee0a98b4-741a-4743-ba7f-ef85528a79a2\">\n",
              "  <button class=\"colab-df-quickchart\" onclick=\"quickchart('df-ee0a98b4-741a-4743-ba7f-ef85528a79a2')\"\n",
              "            title=\"Suggest charts.\"\n",
              "            style=\"display:none;\">\n",
              "\n",
              "<svg xmlns=\"http://www.w3.org/2000/svg\" height=\"24px\"viewBox=\"0 0 24 24\"\n",
              "     width=\"24px\">\n",
              "    <g>\n",
              "        <path d=\"M19 3H5c-1.1 0-2 .9-2 2v14c0 1.1.9 2 2 2h14c1.1 0 2-.9 2-2V5c0-1.1-.9-2-2-2zM9 17H7v-7h2v7zm4 0h-2V7h2v10zm4 0h-2v-4h2v4z\"/>\n",
              "    </g>\n",
              "</svg>\n",
              "  </button>\n",
              "\n",
              "<style>\n",
              "  .colab-df-quickchart {\n",
              "      --bg-color: #E8F0FE;\n",
              "      --fill-color: #1967D2;\n",
              "      --hover-bg-color: #E2EBFA;\n",
              "      --hover-fill-color: #174EA6;\n",
              "      --disabled-fill-color: #AAA;\n",
              "      --disabled-bg-color: #DDD;\n",
              "  }\n",
              "\n",
              "  [theme=dark] .colab-df-quickchart {\n",
              "      --bg-color: #3B4455;\n",
              "      --fill-color: #D2E3FC;\n",
              "      --hover-bg-color: #434B5C;\n",
              "      --hover-fill-color: #FFFFFF;\n",
              "      --disabled-bg-color: #3B4455;\n",
              "      --disabled-fill-color: #666;\n",
              "  }\n",
              "\n",
              "  .colab-df-quickchart {\n",
              "    background-color: var(--bg-color);\n",
              "    border: none;\n",
              "    border-radius: 50%;\n",
              "    cursor: pointer;\n",
              "    display: none;\n",
              "    fill: var(--fill-color);\n",
              "    height: 32px;\n",
              "    padding: 0;\n",
              "    width: 32px;\n",
              "  }\n",
              "\n",
              "  .colab-df-quickchart:hover {\n",
              "    background-color: var(--hover-bg-color);\n",
              "    box-shadow: 0 1px 2px rgba(60, 64, 67, 0.3), 0 1px 3px 1px rgba(60, 64, 67, 0.15);\n",
              "    fill: var(--button-hover-fill-color);\n",
              "  }\n",
              "\n",
              "  .colab-df-quickchart-complete:disabled,\n",
              "  .colab-df-quickchart-complete:disabled:hover {\n",
              "    background-color: var(--disabled-bg-color);\n",
              "    fill: var(--disabled-fill-color);\n",
              "    box-shadow: none;\n",
              "  }\n",
              "\n",
              "  .colab-df-spinner {\n",
              "    border: 2px solid var(--fill-color);\n",
              "    border-color: transparent;\n",
              "    border-bottom-color: var(--fill-color);\n",
              "    animation:\n",
              "      spin 1s steps(1) infinite;\n",
              "  }\n",
              "\n",
              "  @keyframes spin {\n",
              "    0% {\n",
              "      border-color: transparent;\n",
              "      border-bottom-color: var(--fill-color);\n",
              "      border-left-color: var(--fill-color);\n",
              "    }\n",
              "    20% {\n",
              "      border-color: transparent;\n",
              "      border-left-color: var(--fill-color);\n",
              "      border-top-color: var(--fill-color);\n",
              "    }\n",
              "    30% {\n",
              "      border-color: transparent;\n",
              "      border-left-color: var(--fill-color);\n",
              "      border-top-color: var(--fill-color);\n",
              "      border-right-color: var(--fill-color);\n",
              "    }\n",
              "    40% {\n",
              "      border-color: transparent;\n",
              "      border-right-color: var(--fill-color);\n",
              "      border-top-color: var(--fill-color);\n",
              "    }\n",
              "    60% {\n",
              "      border-color: transparent;\n",
              "      border-right-color: var(--fill-color);\n",
              "    }\n",
              "    80% {\n",
              "      border-color: transparent;\n",
              "      border-right-color: var(--fill-color);\n",
              "      border-bottom-color: var(--fill-color);\n",
              "    }\n",
              "    90% {\n",
              "      border-color: transparent;\n",
              "      border-bottom-color: var(--fill-color);\n",
              "    }\n",
              "  }\n",
              "</style>\n",
              "\n",
              "  <script>\n",
              "    async function quickchart(key) {\n",
              "      const quickchartButtonEl =\n",
              "        document.querySelector('#' + key + ' button');\n",
              "      quickchartButtonEl.disabled = true;  // To prevent multiple clicks.\n",
              "      quickchartButtonEl.classList.add('colab-df-spinner');\n",
              "      try {\n",
              "        const charts = await google.colab.kernel.invokeFunction(\n",
              "            'suggestCharts', [key], {});\n",
              "      } catch (error) {\n",
              "        console.error('Error during call to suggestCharts:', error);\n",
              "      }\n",
              "      quickchartButtonEl.classList.remove('colab-df-spinner');\n",
              "      quickchartButtonEl.classList.add('colab-df-quickchart-complete');\n",
              "    }\n",
              "    (() => {\n",
              "      let quickchartButtonEl =\n",
              "        document.querySelector('#df-ee0a98b4-741a-4743-ba7f-ef85528a79a2 button');\n",
              "      quickchartButtonEl.style.display =\n",
              "        google.colab.kernel.accessAllowed ? 'block' : 'none';\n",
              "    })();\n",
              "  </script>\n",
              "</div>\n",
              "    </div>\n",
              "  </div>\n"
            ]
          },
          "metadata": {},
          "execution_count": 47
        }
      ]
    },
    {
      "cell_type": "markdown",
      "source": [
        "![image.png](data:image/png;base64,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)"
      ],
      "metadata": {
        "id": "vAnv8y1a9Jpl"
      }
    },
    {
      "cell_type": "code",
      "source": [
        "def calcular_anuidades(tabua, taxa_juros, idade_inicial, tipo='vitalicia', postecipada=True, tempo_diferimento=0, tempo_temporaria=0):\n",
        "    # Fator de desconto\n",
        "    v = 1 / (1 + taxa_juros)\n",
        "\n",
        "    # Comutação\n",
        "    tabua['Dx'] = tabua['lx'] * (v ** tabua['Idade'])\n",
        "    tabua['Nx'] = tabua['Dx'][::-1].cumsum()[::-1]\n",
        "\n",
        "    if postecipada==True:\n",
        "      posteci=1\n",
        "    else:\n",
        "      posteci=0 # Se for antecipada\n",
        "        #A = A-1\n",
        "\n",
        "    if tipo == 'vitalicia':\n",
        "        A = tabua['Nx'].iloc[idade_inicial+posteci] / tabua['Dx'].iloc[idade_inicial]\n",
        "\n",
        "    elif tipo == 'temporaria':\n",
        "        A = (tabua['Nx'].iloc[idade_inicial + posteci] - tabua['Nx'].iloc[idade_inicial + tempo_temporaria + posteci]) / tabua['Dx'].iloc[idade_inicial]\n",
        "\n",
        "    elif tipo == 'diferida':\n",
        "        A = tabua['Nx'].iloc[idade_inicial + tempo_diferimento + posteci] / tabua['Dx'].iloc[idade_inicial]\n",
        "\n",
        "    elif tipo == 'temporaria_diferida':\n",
        "        A = (tabua['Nx'].iloc[idade_inicial + tempo_diferimento + posteci] - tabua['Nx'].iloc[idade_inicial + tempo_diferimento + tempo_temporaria + posteci]) / tabua['Dx'].iloc[idade_inicial]\n",
        "\n",
        "    return A\n",
        "\n"
      ],
      "metadata": {
        "id": "ukw46qLsC8bb"
      },
      "execution_count": null,
      "outputs": []
    },
    {
      "cell_type": "code",
      "source": [
        "calcular_anuidades(df_func_bio, 0.04, 27, tipo='temporaria_diferida', postecipada=True, tempo_diferimento=30, tempo_temporaria=20)"
      ],
      "metadata": {
        "colab": {
          "base_uri": "https://localhost:8080/"
        },
        "id": "Kps8MhU6DH9k",
        "outputId": "00ce4951-59df-436a-fc6e-aa2aa3d14a70"
      },
      "execution_count": null,
      "outputs": [
        {
          "output_type": "execute_result",
          "data": {
            "text/plain": [
              "3.5923298256676275"
            ]
          },
          "metadata": {},
          "execution_count": 54
        }
      ]
    }
  ]
}